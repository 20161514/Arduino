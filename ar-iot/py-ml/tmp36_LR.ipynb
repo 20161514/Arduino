{
  "nbformat": 4,
  "nbformat_minor": 0,
  "metadata": {
    "colab": {
      "name": "tmp36_LR.ipynb",
      "provenance": [],
      "collapsed_sections": [],
      "include_colab_link": true
    },
    "kernelspec": {
      "name": "python3",
      "display_name": "Python 3"
    }
  },
  "cells": [
    {
      "cell_type": "markdown",
      "metadata": {
        "id": "view-in-github",
        "colab_type": "text"
      },
      "source": [
        "<a href=\"https://colab.research.google.com/github/Redwoods/Arduino/blob/master/ar-iot/py-ml/tmp36_LR.ipynb\" target=\"_parent\"><img src=\"https://colab.research.google.com/assets/colab-badge.svg\" alt=\"Open In Colab\"/></a>"
      ]
    },
    {
      "cell_type": "markdown",
      "metadata": {
        "id": "RzjH5Z33Dyma",
        "colab_type": "text"
      },
      "source": [
        "### Linear regression of TMP36 sensor\n",
        "- Output voltage vs. Temperature\n",
        "    - V: 0, 500, 1000\n",
        "    - T: -50, 0, 50\n",
        "> Find the relation between V and T\n",
        ">> Use sklearn module in Python\n"
      ]
    },
    {
      "cell_type": "markdown",
      "metadata": {
        "id": "rN50RMHcSTse",
        "colab_type": "text"
      },
      "source": [
        "### TMP36 센서의 전압-온도 특성"
      ]
    },
    {
      "cell_type": "markdown",
      "metadata": {
        "id": "vuJd1tV2MBGg",
        "colab_type": "text"
      },
      "source": [
        "![tmp36_V_vs_T](https://github.com/Redwoods/Arduino/blob/master/ar-iot/py-ml/tmp36_V_T.png?raw=true)"
      ]
    },
    {
      "cell_type": "code",
      "metadata": {
        "id": "wnfv4WePDm23",
        "colab_type": "code",
        "colab": {}
      },
      "source": [
        "# Import packages and classes\n",
        "import numpy as np\n",
        "from sklearn.linear_model import LinearRegression"
      ],
      "execution_count": 0,
      "outputs": []
    },
    {
      "cell_type": "code",
      "metadata": {
        "id": "AyBStz0QEkoI",
        "colab_type": "code",
        "colab": {}
      },
      "source": [
        "# Provide data\n",
        "x = np.array([0, 500, 1000])   # V in mV\n",
        "y = np.array([-50, 0, 50])     # T in C"
      ],
      "execution_count": 0,
      "outputs": []
    },
    {
      "cell_type": "code",
      "metadata": {
        "id": "rGgIfbl5FAxa",
        "colab_type": "code",
        "colab": {
          "base_uri": "https://localhost:8080/",
          "height": 35
        },
        "outputId": "7f1eb735-a52c-45d5-ec38-0eb8d291fd86"
      },
      "source": [
        "print(x,y)"
      ],
      "execution_count": 4,
      "outputs": [
        {
          "output_type": "stream",
          "text": [
            "[   0  500 1000] [-50   0  50]\n"
          ],
          "name": "stdout"
        }
      ]
    },
    {
      "cell_type": "code",
      "metadata": {
        "id": "g2JRdZzKFMzC",
        "colab_type": "code",
        "colab": {
          "base_uri": "https://localhost:8080/",
          "height": 71
        },
        "outputId": "158ab2f6-ba0a-46d0-9a21-13f3cc12852c"
      },
      "source": [
        "x = x.reshape(-1,1)\n",
        "print(x)"
      ],
      "execution_count": 5,
      "outputs": [
        {
          "output_type": "stream",
          "text": [
            "[[   0]\n",
            " [ 500]\n",
            " [1000]]\n"
          ],
          "name": "stdout"
        }
      ]
    },
    {
      "cell_type": "code",
      "metadata": {
        "id": "F9AXa_0JFUYT",
        "colab_type": "code",
        "colab": {
          "base_uri": "https://localhost:8080/",
          "height": 35
        },
        "outputId": "68b94a44-5b5d-4cd0-cedd-ee962a056f0a"
      },
      "source": [
        "x.shape,y.shape"
      ],
      "execution_count": 6,
      "outputs": [
        {
          "output_type": "execute_result",
          "data": {
            "text/plain": [
              "((3, 1), (3,))"
            ]
          },
          "metadata": {
            "tags": []
          },
          "execution_count": 6
        }
      ]
    },
    {
      "cell_type": "code",
      "metadata": {
        "id": "ZTDxS1oGFc4G",
        "colab_type": "code",
        "colab": {
          "base_uri": "https://localhost:8080/",
          "height": 35
        },
        "outputId": "6ed63a7b-90f3-4859-c837-fff018287ce4"
      },
      "source": [
        "# Create a model and fit it\n",
        "model = LinearRegression()\n",
        "# fit\n",
        "model.fit(x, y)\n",
        "# model = LinearRegression().fit(x, y)"
      ],
      "execution_count": 7,
      "outputs": [
        {
          "output_type": "execute_result",
          "data": {
            "text/plain": [
              "LinearRegression(copy_X=True, fit_intercept=True, n_jobs=None, normalize=False)"
            ]
          },
          "metadata": {
            "tags": []
          },
          "execution_count": 7
        }
      ]
    },
    {
      "cell_type": "code",
      "metadata": {
        "id": "CRzauY4YFr8s",
        "colab_type": "code",
        "colab": {
          "base_uri": "https://localhost:8080/",
          "height": 35
        },
        "outputId": "adbb8351-fce5-4fb4-f693-13f7b9f520ca"
      },
      "source": [
        "# parameters of the model\n",
        "model.coef_, model.intercept_"
      ],
      "execution_count": 8,
      "outputs": [
        {
          "output_type": "execute_result",
          "data": {
            "text/plain": [
              "(array([0.1]), -50.0)"
            ]
          },
          "metadata": {
            "tags": []
          },
          "execution_count": 8
        }
      ]
    },
    {
      "cell_type": "code",
      "metadata": {
        "id": "JKa7rvbkGJ9R",
        "colab_type": "code",
        "colab": {
          "base_uri": "https://localhost:8080/",
          "height": 35
        },
        "outputId": "25fdb476-1d7b-436b-f42e-3eb17dc1403a"
      },
      "source": [
        "# Performance of the model\n",
        "r_sq = model.score(x, y)\n",
        "r_sq"
      ],
      "execution_count": 9,
      "outputs": [
        {
          "output_type": "execute_result",
          "data": {
            "text/plain": [
              "1.0"
            ]
          },
          "metadata": {
            "tags": []
          },
          "execution_count": 9
        }
      ]
    },
    {
      "cell_type": "markdown",
      "metadata": {
        "id": "1fAto19_Gatn",
        "colab_type": "text"
      },
      "source": [
        "## r_sq = 1.0 은 완벽한 모델을 의미한다.\n",
        "### model : y = a*x + b\n",
        "- y:T\n",
        "- x:V\n",
        "- a = 0.1 (model.coef_)\n",
        "- b = -50 (model.intercept_)\n",
        "\n",
        "> T = 0.1*V - 50\n",
        "> T = (V - 500)/10"
      ]
    },
    {
      "cell_type": "markdown",
      "metadata": {
        "id": "MhemKVvOHT6R",
        "colab_type": "text"
      },
      "source": [
        "## V와 T의 관계식\n",
        "# T = (V - 500)/10"
      ]
    },
    {
      "cell_type": "markdown",
      "metadata": {
        "id": "4suioCmNI5Gq",
        "colab_type": "text"
      },
      "source": [
        "## Graph of the regression equation"
      ]
    },
    {
      "cell_type": "code",
      "metadata": {
        "id": "1APFa_5CJazu",
        "colab_type": "code",
        "colab": {}
      },
      "source": [
        "def plot_regression_line(x, y, b): \n",
        "    # plotting the actual points as scatter plot \n",
        "    plt.scatter(x, y, color = \"m\", \n",
        "               marker = \"o\", s = 30) \n",
        "  \n",
        "    # predicted response vector \n",
        "    y_pred = b[0] + b[1]*x \n",
        "  \n",
        "    # plotting the regression line \n",
        "    plt.plot(x, y_pred, color = \"g\") \n",
        "  \n",
        "    # putting labels \n",
        "    plt.xlabel('V') \n",
        "    plt.ylabel('T') \n",
        "  \n",
        "    # function to show plot \n",
        "    plt.show() "
      ],
      "execution_count": 0,
      "outputs": []
    },
    {
      "cell_type": "code",
      "metadata": {
        "id": "hqD4sp_BI3dU",
        "colab_type": "code",
        "colab": {
          "base_uri": "https://localhost:8080/",
          "height": 35
        },
        "outputId": "531d5a44-01c0-45ef-f7e4-d1807a237f14"
      },
      "source": [
        "V = np.array([0, 500, 1000])   # V in mV\n",
        "T = np.array([-50, 0, 50])     # T in C\n",
        "coef = (model.intercept_, model.coef_)\n",
        "print(coef)"
      ],
      "execution_count": 11,
      "outputs": [
        {
          "output_type": "stream",
          "text": [
            "(-50.0, array([0.1]))\n"
          ],
          "name": "stdout"
        }
      ]
    },
    {
      "cell_type": "code",
      "metadata": {
        "id": "HeWHYwXBGYhl",
        "colab_type": "code",
        "colab": {
          "base_uri": "https://localhost:8080/",
          "height": 283
        },
        "outputId": "a00aae5f-93c0-4608-b33b-9c14a417730e"
      },
      "source": [
        "# Graph of the regression \n",
        "import matplotlib.pyplot as plt\n",
        "# plotting regression line \n",
        "plot_regression_line(V, T, coef) \n"
      ],
      "execution_count": 12,
      "outputs": [
        {
          "output_type": "display_data",
          "data": {
            "image/png": "[encoded data removed]",
            "text/plain": [
              "<Figure size 432x288 with 1 Axes>"
            ]
          },
          "metadata": {
            "tags": []
          }
        }
      ]
    },
    {
      "cell_type": "code",
      "metadata": {
        "id": "PzQMF1p4Irwh",
        "colab_type": "code",
        "colab": {}
      },
      "source": [
        ""
      ],
      "execution_count": 0,
      "outputs": []
    }
  ]
}