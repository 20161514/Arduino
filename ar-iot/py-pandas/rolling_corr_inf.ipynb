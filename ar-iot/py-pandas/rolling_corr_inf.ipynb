{
 "cells": [
  {
   "cell_type": "markdown",
   "metadata": {},
   "source": [
    "### How to avoid 'inf' of rolling().corr() in pandas"
   ]
  },
  {
   "cell_type": "code",
   "execution_count": 1,
   "metadata": {},
   "outputs": [],
   "source": [
    "import numpy as np\n",
    "import pandas as pd"
   ]
  },
  {
   "cell_type": "markdown",
   "metadata": {},
   "source": [
    "### make data with same value"
   ]
  },
  {
   "cell_type": "code",
   "execution_count": 2,
   "metadata": {},
   "outputs": [
    {
     "data": {
      "text/plain": [
       "[5, 5, 5, 5, 5, 5, 5, 5, 5, 5]"
      ]
     },
     "execution_count": 2,
     "metadata": {},
     "output_type": "execute_result"
    }
   ],
   "source": [
    "a = [5,5,5,5,5,5,5,5,5,5]\n",
    "a"
   ]
  },
  {
   "cell_type": "code",
   "execution_count": 3,
   "metadata": {},
   "outputs": [],
   "source": [
    "b=a"
   ]
  },
  {
   "cell_type": "markdown",
   "metadata": {},
   "source": [
    "### make dataframe with a and b"
   ]
  },
  {
   "cell_type": "code",
   "execution_count": 4,
   "metadata": {},
   "outputs": [],
   "source": [
    "ab = pd.DataFrame({'a':a, 'b':b})  # make dictionary and converty to dataframe"
   ]
  },
  {
   "cell_type": "code",
   "execution_count": 5,
   "metadata": {},
   "outputs": [
    {
     "data": {
      "text/html": [
       "<div>\n",
       "<style scoped>\n",
       "    .dataframe tbody tr th:only-of-type {\n",
       "        vertical-align: middle;\n",
       "    }\n",
       "\n",
       "    .dataframe tbody tr th {\n",
       "        vertical-align: top;\n",
       "    }\n",
       "\n",
       "    .dataframe thead th {\n",
       "        text-align: right;\n",
       "    }\n",
       "</style>\n",
       "<table border=\"1\" class=\"dataframe\">\n",
       "  <thead>\n",
       "    <tr style=\"text-align: right;\">\n",
       "      <th></th>\n",
       "      <th>a</th>\n",
       "      <th>b</th>\n",
       "    </tr>\n",
       "  </thead>\n",
       "  <tbody>\n",
       "    <tr>\n",
       "      <th>0</th>\n",
       "      <td>5</td>\n",
       "      <td>5</td>\n",
       "    </tr>\n",
       "    <tr>\n",
       "      <th>1</th>\n",
       "      <td>5</td>\n",
       "      <td>5</td>\n",
       "    </tr>\n",
       "    <tr>\n",
       "      <th>2</th>\n",
       "      <td>5</td>\n",
       "      <td>5</td>\n",
       "    </tr>\n",
       "    <tr>\n",
       "      <th>3</th>\n",
       "      <td>5</td>\n",
       "      <td>5</td>\n",
       "    </tr>\n",
       "    <tr>\n",
       "      <th>4</th>\n",
       "      <td>5</td>\n",
       "      <td>5</td>\n",
       "    </tr>\n",
       "    <tr>\n",
       "      <th>5</th>\n",
       "      <td>5</td>\n",
       "      <td>5</td>\n",
       "    </tr>\n",
       "    <tr>\n",
       "      <th>6</th>\n",
       "      <td>5</td>\n",
       "      <td>5</td>\n",
       "    </tr>\n",
       "    <tr>\n",
       "      <th>7</th>\n",
       "      <td>5</td>\n",
       "      <td>5</td>\n",
       "    </tr>\n",
       "    <tr>\n",
       "      <th>8</th>\n",
       "      <td>5</td>\n",
       "      <td>5</td>\n",
       "    </tr>\n",
       "    <tr>\n",
       "      <th>9</th>\n",
       "      <td>5</td>\n",
       "      <td>5</td>\n",
       "    </tr>\n",
       "  </tbody>\n",
       "</table>\n",
       "</div>"
      ],
      "text/plain": [
       "   a  b\n",
       "0  5  5\n",
       "1  5  5\n",
       "2  5  5\n",
       "3  5  5\n",
       "4  5  5\n",
       "5  5  5\n",
       "6  5  5\n",
       "7  5  5\n",
       "8  5  5\n",
       "9  5  5"
      ]
     },
     "execution_count": 5,
     "metadata": {},
     "output_type": "execute_result"
    }
   ],
   "source": [
    "ab"
   ]
  },
  {
   "cell_type": "code",
   "execution_count": 6,
   "metadata": {},
   "outputs": [
    {
     "name": "stdout",
     "output_type": "stream",
     "text": [
      "<class 'pandas.core.frame.DataFrame'>\n",
      "RangeIndex: 10 entries, 0 to 9\n",
      "Data columns (total 2 columns):\n",
      "a    10 non-null int64\n",
      "b    10 non-null int64\n",
      "dtypes: int64(2)\n",
      "memory usage: 240.0 bytes\n"
     ]
    }
   ],
   "source": [
    "ab.info()"
   ]
  },
  {
   "cell_type": "code",
   "execution_count": 7,
   "metadata": {},
   "outputs": [
    {
     "data": {
      "text/plain": [
       "0   NaN\n",
       "1   NaN\n",
       "2   NaN\n",
       "3   NaN\n",
       "4   NaN\n",
       "5   NaN\n",
       "6   NaN\n",
       "7   NaN\n",
       "8   NaN\n",
       "9   NaN\n",
       "dtype: float64"
      ]
     },
     "execution_count": 7,
     "metadata": {},
     "output_type": "execute_result"
    }
   ],
   "source": [
    "ab['a'].rolling(5).corr(ab['b'])"
   ]
  },
  {
   "cell_type": "code",
   "execution_count": 8,
   "metadata": {},
   "outputs": [
    {
     "data": {
      "text/plain": [
       "0   NaN\n",
       "1   NaN\n",
       "2   NaN\n",
       "3   NaN\n",
       "4   NaN\n",
       "5   NaN\n",
       "6   NaN\n",
       "7   NaN\n",
       "8   NaN\n",
       "9   NaN\n",
       "Name: a, dtype: float64"
      ]
     },
     "execution_count": 8,
     "metadata": {},
     "output_type": "execute_result"
    }
   ],
   "source": [
    "ab['a'].rolling(5).corr(ab['a'])"
   ]
  },
  {
   "cell_type": "code",
   "execution_count": 9,
   "metadata": {},
   "outputs": [
    {
     "data": {
      "text/plain": [
       "10"
      ]
     },
     "execution_count": 9,
     "metadata": {},
     "output_type": "execute_result"
    }
   ],
   "source": [
    "len(ab)"
   ]
  },
  {
   "cell_type": "code",
   "execution_count": 10,
   "metadata": {},
   "outputs": [
    {
     "data": {
      "text/plain": [
       "array([0.00335172, 0.00135461, 0.0081144 , 0.00390782, 0.00506254,\n",
       "       0.00151444, 0.00045478, 0.00865019, 0.00759077, 0.00016536])"
      ]
     },
     "execution_count": 10,
     "metadata": {},
     "output_type": "execute_result"
    }
   ],
   "source": [
    "np.random.rand(len(ab))/100"
   ]
  },
  {
   "cell_type": "code",
   "execution_count": 11,
   "metadata": {},
   "outputs": [],
   "source": [
    "# Add small noise in ab['b']\n",
    "ab['b'] = ab['b'] + np.random.rand(len(ab))/100"
   ]
  },
  {
   "cell_type": "code",
   "execution_count": 12,
   "metadata": {},
   "outputs": [
    {
     "data": {
      "text/plain": [
       "0    5.002235\n",
       "1    5.002606\n",
       "2    5.008091\n",
       "3    5.001759\n",
       "4    5.005031\n",
       "5    5.007186\n",
       "6    5.009683\n",
       "7    5.003667\n",
       "8    5.001243\n",
       "9    5.005537\n",
       "Name: b, dtype: float64"
      ]
     },
     "execution_count": 12,
     "metadata": {},
     "output_type": "execute_result"
    }
   ],
   "source": [
    "ab['b']"
   ]
  },
  {
   "cell_type": "code",
   "execution_count": 13,
   "metadata": {},
   "outputs": [
    {
     "data": {
      "text/plain": [
       "0    NaN\n",
       "1    NaN\n",
       "2    NaN\n",
       "3    NaN\n",
       "4    NaN\n",
       "5   -inf\n",
       "6    NaN\n",
       "7    NaN\n",
       "8   -inf\n",
       "9   -inf\n",
       "dtype: float64"
      ]
     },
     "execution_count": 13,
     "metadata": {},
     "output_type": "execute_result"
    }
   ],
   "source": [
    "ab['a'].rolling(5).corr(ab['b'])"
   ]
  },
  {
   "cell_type": "code",
   "execution_count": 14,
   "metadata": {},
   "outputs": [
    {
     "data": {
      "text/plain": [
       "0    5.008793\n",
       "1    5.008497\n",
       "2    5.004080\n",
       "3    5.000306\n",
       "4    5.005495\n",
       "5    5.005424\n",
       "6    5.009814\n",
       "7    5.001942\n",
       "8    5.004353\n",
       "9    5.006386\n",
       "Name: a, dtype: float64"
      ]
     },
     "execution_count": 14,
     "metadata": {},
     "output_type": "execute_result"
    }
   ],
   "source": [
    "# Add small noise in ab['a']\n",
    "ab['a'] = ab['a'] + np.random.rand(len(ab))/100\n",
    "ab['a']"
   ]
  },
  {
   "cell_type": "code",
   "execution_count": 15,
   "metadata": {},
   "outputs": [
    {
     "data": {
      "text/plain": [
       "0         NaN\n",
       "1         NaN\n",
       "2         NaN\n",
       "3         NaN\n",
       "4   -0.113307\n",
       "5    0.148246\n",
       "6    0.853266\n",
       "7    0.964672\n",
       "8    0.791894\n",
       "9    0.786596\n",
       "dtype: float64"
      ]
     },
     "execution_count": 15,
     "metadata": {},
     "output_type": "execute_result"
    }
   ],
   "source": [
    "ab['a'].rolling(5).corr(ab['b'])"
   ]
  },
  {
   "cell_type": "markdown",
   "metadata": {},
   "source": [
    "***"
   ]
  },
  {
   "cell_type": "markdown",
   "metadata": {},
   "source": [
    "### Two column data"
   ]
  },
  {
   "cell_type": "code",
   "execution_count": 16,
   "metadata": {},
   "outputs": [],
   "source": [
    "# Make data\n",
    "np.random.seed(10)\n",
    "a = np.random.random(30).reshape(30,1)\n",
    "b = np.random.random(30).reshape(30,1)"
   ]
  },
  {
   "cell_type": "code",
   "execution_count": 17,
   "metadata": {},
   "outputs": [
    {
     "data": {
      "text/plain": [
       "((30, 1), (30, 1))"
      ]
     },
     "execution_count": 17,
     "metadata": {},
     "output_type": "execute_result"
    }
   ],
   "source": [
    "a.shape,b.shape"
   ]
  },
  {
   "cell_type": "code",
   "execution_count": 18,
   "metadata": {},
   "outputs": [
    {
     "data": {
      "text/plain": [
       "((30, 1), (30, 1))"
      ]
     },
     "execution_count": 18,
     "metadata": {},
     "output_type": "execute_result"
    }
   ],
   "source": [
    "a_1 = pd.DataFrame(a)\n",
    "b_1 = pd.DataFrame(b)\n",
    "a_1.shape,b_1.shape"
   ]
  },
  {
   "cell_type": "code",
   "execution_count": 19,
   "metadata": {},
   "outputs": [
    {
     "data": {
      "text/html": [
       "<div>\n",
       "<style scoped>\n",
       "    .dataframe tbody tr th:only-of-type {\n",
       "        vertical-align: middle;\n",
       "    }\n",
       "\n",
       "    .dataframe tbody tr th {\n",
       "        vertical-align: top;\n",
       "    }\n",
       "\n",
       "    .dataframe thead th {\n",
       "        text-align: right;\n",
       "    }\n",
       "</style>\n",
       "<table border=\"1\" class=\"dataframe\">\n",
       "  <thead>\n",
       "    <tr style=\"text-align: right;\">\n",
       "      <th></th>\n",
       "      <th>0</th>\n",
       "    </tr>\n",
       "  </thead>\n",
       "  <tbody>\n",
       "    <tr>\n",
       "      <th>0</th>\n",
       "      <td>NaN</td>\n",
       "    </tr>\n",
       "    <tr>\n",
       "      <th>1</th>\n",
       "      <td>NaN</td>\n",
       "    </tr>\n",
       "    <tr>\n",
       "      <th>2</th>\n",
       "      <td>NaN</td>\n",
       "    </tr>\n",
       "    <tr>\n",
       "      <th>3</th>\n",
       "      <td>NaN</td>\n",
       "    </tr>\n",
       "    <tr>\n",
       "      <th>4</th>\n",
       "      <td>NaN</td>\n",
       "    </tr>\n",
       "    <tr>\n",
       "      <th>5</th>\n",
       "      <td>NaN</td>\n",
       "    </tr>\n",
       "    <tr>\n",
       "      <th>6</th>\n",
       "      <td>NaN</td>\n",
       "    </tr>\n",
       "    <tr>\n",
       "      <th>7</th>\n",
       "      <td>NaN</td>\n",
       "    </tr>\n",
       "    <tr>\n",
       "      <th>8</th>\n",
       "      <td>NaN</td>\n",
       "    </tr>\n",
       "    <tr>\n",
       "      <th>9</th>\n",
       "      <td>0.450030</td>\n",
       "    </tr>\n",
       "    <tr>\n",
       "      <th>10</th>\n",
       "      <td>0.369819</td>\n",
       "    </tr>\n",
       "    <tr>\n",
       "      <th>11</th>\n",
       "      <td>0.574212</td>\n",
       "    </tr>\n",
       "    <tr>\n",
       "      <th>12</th>\n",
       "      <td>0.601624</td>\n",
       "    </tr>\n",
       "    <tr>\n",
       "      <th>13</th>\n",
       "      <td>0.645967</td>\n",
       "    </tr>\n",
       "    <tr>\n",
       "      <th>14</th>\n",
       "      <td>0.627806</td>\n",
       "    </tr>\n",
       "    <tr>\n",
       "      <th>15</th>\n",
       "      <td>0.620521</td>\n",
       "    </tr>\n",
       "    <tr>\n",
       "      <th>16</th>\n",
       "      <td>0.480190</td>\n",
       "    </tr>\n",
       "    <tr>\n",
       "      <th>17</th>\n",
       "      <td>0.304029</td>\n",
       "    </tr>\n",
       "    <tr>\n",
       "      <th>18</th>\n",
       "      <td>-0.000147</td>\n",
       "    </tr>\n",
       "    <tr>\n",
       "      <th>19</th>\n",
       "      <td>-0.006453</td>\n",
       "    </tr>\n",
       "    <tr>\n",
       "      <th>20</th>\n",
       "      <td>0.001888</td>\n",
       "    </tr>\n",
       "    <tr>\n",
       "      <th>21</th>\n",
       "      <td>0.032681</td>\n",
       "    </tr>\n",
       "    <tr>\n",
       "      <th>22</th>\n",
       "      <td>-0.271442</td>\n",
       "    </tr>\n",
       "    <tr>\n",
       "      <th>23</th>\n",
       "      <td>-0.292454</td>\n",
       "    </tr>\n",
       "    <tr>\n",
       "      <th>24</th>\n",
       "      <td>-0.268997</td>\n",
       "    </tr>\n",
       "    <tr>\n",
       "      <th>25</th>\n",
       "      <td>-0.357138</td>\n",
       "    </tr>\n",
       "    <tr>\n",
       "      <th>26</th>\n",
       "      <td>-0.211002</td>\n",
       "    </tr>\n",
       "    <tr>\n",
       "      <th>27</th>\n",
       "      <td>-0.095969</td>\n",
       "    </tr>\n",
       "    <tr>\n",
       "      <th>28</th>\n",
       "      <td>0.091397</td>\n",
       "    </tr>\n",
       "    <tr>\n",
       "      <th>29</th>\n",
       "      <td>0.202857</td>\n",
       "    </tr>\n",
       "  </tbody>\n",
       "</table>\n",
       "</div>"
      ],
      "text/plain": [
       "           0\n",
       "0        NaN\n",
       "1        NaN\n",
       "2        NaN\n",
       "3        NaN\n",
       "4        NaN\n",
       "5        NaN\n",
       "6        NaN\n",
       "7        NaN\n",
       "8        NaN\n",
       "9   0.450030\n",
       "10  0.369819\n",
       "11  0.574212\n",
       "12  0.601624\n",
       "13  0.645967\n",
       "14  0.627806\n",
       "15  0.620521\n",
       "16  0.480190\n",
       "17  0.304029\n",
       "18 -0.000147\n",
       "19 -0.006453\n",
       "20  0.001888\n",
       "21  0.032681\n",
       "22 -0.271442\n",
       "23 -0.292454\n",
       "24 -0.268997\n",
       "25 -0.357138\n",
       "26 -0.211002\n",
       "27 -0.095969\n",
       "28  0.091397\n",
       "29  0.202857"
      ]
     },
     "execution_count": 19,
     "metadata": {},
     "output_type": "execute_result"
    }
   ],
   "source": [
    "# s1.rolling(4).corr(s2)\n",
    "corr = a_1.rolling(10).corr(b_1)\n",
    "corr"
   ]
  },
  {
   "cell_type": "code",
   "execution_count": 20,
   "metadata": {},
   "outputs": [
    {
     "data": {
      "text/html": [
       "<div>\n",
       "<style scoped>\n",
       "    .dataframe tbody tr th:only-of-type {\n",
       "        vertical-align: middle;\n",
       "    }\n",
       "\n",
       "    .dataframe tbody tr th {\n",
       "        vertical-align: top;\n",
       "    }\n",
       "\n",
       "    .dataframe thead th {\n",
       "        text-align: right;\n",
       "    }\n",
       "</style>\n",
       "<table border=\"1\" class=\"dataframe\">\n",
       "  <thead>\n",
       "    <tr style=\"text-align: right;\">\n",
       "      <th></th>\n",
       "      <th>0</th>\n",
       "    </tr>\n",
       "  </thead>\n",
       "  <tbody>\n",
       "    <tr>\n",
       "      <th>9</th>\n",
       "      <td>0.450030</td>\n",
       "    </tr>\n",
       "    <tr>\n",
       "      <th>19</th>\n",
       "      <td>-0.006453</td>\n",
       "    </tr>\n",
       "    <tr>\n",
       "      <th>29</th>\n",
       "      <td>0.202857</td>\n",
       "    </tr>\n",
       "  </tbody>\n",
       "</table>\n",
       "</div>"
      ],
      "text/plain": [
       "           0\n",
       "9   0.450030\n",
       "19 -0.006453\n",
       "29  0.202857"
      ]
     },
     "execution_count": 20,
     "metadata": {},
     "output_type": "execute_result"
    }
   ],
   "source": [
    "# Corrrelation of every block with 10 successive values\n",
    "corr[9::10]"
   ]
  },
  {
   "cell_type": "code",
   "execution_count": 21,
   "metadata": {},
   "outputs": [],
   "source": [
    "# Rolling sum and mean"
   ]
  },
  {
   "cell_type": "code",
   "execution_count": 22,
   "metadata": {},
   "outputs": [
    {
     "data": {
      "text/html": [
       "<div>\n",
       "<style scoped>\n",
       "    .dataframe tbody tr th:only-of-type {\n",
       "        vertical-align: middle;\n",
       "    }\n",
       "\n",
       "    .dataframe tbody tr th {\n",
       "        vertical-align: top;\n",
       "    }\n",
       "\n",
       "    .dataframe thead th {\n",
       "        text-align: right;\n",
       "    }\n",
       "</style>\n",
       "<table border=\"1\" class=\"dataframe\">\n",
       "  <thead>\n",
       "    <tr style=\"text-align: right;\">\n",
       "      <th></th>\n",
       "      <th>0</th>\n",
       "    </tr>\n",
       "  </thead>\n",
       "  <tbody>\n",
       "    <tr>\n",
       "      <th>0</th>\n",
       "      <td>NaN</td>\n",
       "    </tr>\n",
       "    <tr>\n",
       "      <th>1</th>\n",
       "      <td>NaN</td>\n",
       "    </tr>\n",
       "    <tr>\n",
       "      <th>2</th>\n",
       "      <td>NaN</td>\n",
       "    </tr>\n",
       "    <tr>\n",
       "      <th>3</th>\n",
       "      <td>NaN</td>\n",
       "    </tr>\n",
       "    <tr>\n",
       "      <th>4</th>\n",
       "      <td>NaN</td>\n",
       "    </tr>\n",
       "    <tr>\n",
       "      <th>5</th>\n",
       "      <td>NaN</td>\n",
       "    </tr>\n",
       "    <tr>\n",
       "      <th>6</th>\n",
       "      <td>NaN</td>\n",
       "    </tr>\n",
       "    <tr>\n",
       "      <th>7</th>\n",
       "      <td>NaN</td>\n",
       "    </tr>\n",
       "    <tr>\n",
       "      <th>8</th>\n",
       "      <td>NaN</td>\n",
       "    </tr>\n",
       "    <tr>\n",
       "      <th>9</th>\n",
       "      <td>4.113873</td>\n",
       "    </tr>\n",
       "    <tr>\n",
       "      <th>10</th>\n",
       "      <td>4.027912</td>\n",
       "    </tr>\n",
       "    <tr>\n",
       "      <th>11</th>\n",
       "      <td>4.960553</td>\n",
       "    </tr>\n",
       "    <tr>\n",
       "      <th>12</th>\n",
       "      <td>4.330853</td>\n",
       "    </tr>\n",
       "    <tr>\n",
       "      <th>13</th>\n",
       "      <td>4.094242</td>\n",
       "    </tr>\n",
       "    <tr>\n",
       "      <th>14</th>\n",
       "      <td>4.408356</td>\n",
       "    </tr>\n",
       "    <tr>\n",
       "      <th>15</th>\n",
       "      <td>4.796085</td>\n",
       "    </tr>\n",
       "    <tr>\n",
       "      <th>16</th>\n",
       "      <td>5.319777</td>\n",
       "    </tr>\n",
       "    <tr>\n",
       "      <th>17</th>\n",
       "      <td>4.851123</td>\n",
       "    </tr>\n",
       "    <tr>\n",
       "      <th>18</th>\n",
       "      <td>5.599786</td>\n",
       "    </tr>\n",
       "    <tr>\n",
       "      <th>19</th>\n",
       "      <td>6.226022</td>\n",
       "    </tr>\n",
       "    <tr>\n",
       "      <th>20</th>\n",
       "      <td>6.083207</td>\n",
       "    </tr>\n",
       "    <tr>\n",
       "      <th>21</th>\n",
       "      <td>5.271983</td>\n",
       "    </tr>\n",
       "    <tr>\n",
       "      <th>22</th>\n",
       "      <td>5.641376</td>\n",
       "    </tr>\n",
       "    <tr>\n",
       "      <th>23</th>\n",
       "      <td>5.803317</td>\n",
       "    </tr>\n",
       "    <tr>\n",
       "      <th>24</th>\n",
       "      <td>5.432529</td>\n",
       "    </tr>\n",
       "    <tr>\n",
       "      <th>25</th>\n",
       "      <td>5.254017</td>\n",
       "    </tr>\n",
       "    <tr>\n",
       "      <th>26</th>\n",
       "      <td>5.150029</td>\n",
       "    </tr>\n",
       "    <tr>\n",
       "      <th>27</th>\n",
       "      <td>5.371291</td>\n",
       "    </tr>\n",
       "    <tr>\n",
       "      <th>28</th>\n",
       "      <td>5.103914</td>\n",
       "    </tr>\n",
       "    <tr>\n",
       "      <th>29</th>\n",
       "      <td>4.990377</td>\n",
       "    </tr>\n",
       "  </tbody>\n",
       "</table>\n",
       "</div>"
      ],
      "text/plain": [
       "           0\n",
       "0        NaN\n",
       "1        NaN\n",
       "2        NaN\n",
       "3        NaN\n",
       "4        NaN\n",
       "5        NaN\n",
       "6        NaN\n",
       "7        NaN\n",
       "8        NaN\n",
       "9   4.113873\n",
       "10  4.027912\n",
       "11  4.960553\n",
       "12  4.330853\n",
       "13  4.094242\n",
       "14  4.408356\n",
       "15  4.796085\n",
       "16  5.319777\n",
       "17  4.851123\n",
       "18  5.599786\n",
       "19  6.226022\n",
       "20  6.083207\n",
       "21  5.271983\n",
       "22  5.641376\n",
       "23  5.803317\n",
       "24  5.432529\n",
       "25  5.254017\n",
       "26  5.150029\n",
       "27  5.371291\n",
       "28  5.103914\n",
       "29  4.990377"
      ]
     },
     "execution_count": 22,
     "metadata": {},
     "output_type": "execute_result"
    }
   ],
   "source": [
    "r_sum = a_1.rolling(10).sum()\n",
    "r_sum"
   ]
  },
  {
   "cell_type": "code",
   "execution_count": 23,
   "metadata": {},
   "outputs": [
    {
     "data": {
      "text/html": [
       "<div>\n",
       "<style scoped>\n",
       "    .dataframe tbody tr th:only-of-type {\n",
       "        vertical-align: middle;\n",
       "    }\n",
       "\n",
       "    .dataframe tbody tr th {\n",
       "        vertical-align: top;\n",
       "    }\n",
       "\n",
       "    .dataframe thead th {\n",
       "        text-align: right;\n",
       "    }\n",
       "</style>\n",
       "<table border=\"1\" class=\"dataframe\">\n",
       "  <thead>\n",
       "    <tr style=\"text-align: right;\">\n",
       "      <th></th>\n",
       "      <th>0</th>\n",
       "    </tr>\n",
       "  </thead>\n",
       "  <tbody>\n",
       "    <tr>\n",
       "      <th>0</th>\n",
       "      <td>NaN</td>\n",
       "    </tr>\n",
       "    <tr>\n",
       "      <th>1</th>\n",
       "      <td>NaN</td>\n",
       "    </tr>\n",
       "    <tr>\n",
       "      <th>2</th>\n",
       "      <td>NaN</td>\n",
       "    </tr>\n",
       "    <tr>\n",
       "      <th>3</th>\n",
       "      <td>NaN</td>\n",
       "    </tr>\n",
       "    <tr>\n",
       "      <th>4</th>\n",
       "      <td>NaN</td>\n",
       "    </tr>\n",
       "    <tr>\n",
       "      <th>5</th>\n",
       "      <td>NaN</td>\n",
       "    </tr>\n",
       "    <tr>\n",
       "      <th>6</th>\n",
       "      <td>NaN</td>\n",
       "    </tr>\n",
       "    <tr>\n",
       "      <th>7</th>\n",
       "      <td>NaN</td>\n",
       "    </tr>\n",
       "    <tr>\n",
       "      <th>8</th>\n",
       "      <td>NaN</td>\n",
       "    </tr>\n",
       "    <tr>\n",
       "      <th>9</th>\n",
       "      <td>0.411387</td>\n",
       "    </tr>\n",
       "    <tr>\n",
       "      <th>10</th>\n",
       "      <td>0.402791</td>\n",
       "    </tr>\n",
       "    <tr>\n",
       "      <th>11</th>\n",
       "      <td>0.496055</td>\n",
       "    </tr>\n",
       "    <tr>\n",
       "      <th>12</th>\n",
       "      <td>0.433085</td>\n",
       "    </tr>\n",
       "    <tr>\n",
       "      <th>13</th>\n",
       "      <td>0.409424</td>\n",
       "    </tr>\n",
       "    <tr>\n",
       "      <th>14</th>\n",
       "      <td>0.440836</td>\n",
       "    </tr>\n",
       "    <tr>\n",
       "      <th>15</th>\n",
       "      <td>0.479608</td>\n",
       "    </tr>\n",
       "    <tr>\n",
       "      <th>16</th>\n",
       "      <td>0.531978</td>\n",
       "    </tr>\n",
       "    <tr>\n",
       "      <th>17</th>\n",
       "      <td>0.485112</td>\n",
       "    </tr>\n",
       "    <tr>\n",
       "      <th>18</th>\n",
       "      <td>0.559979</td>\n",
       "    </tr>\n",
       "    <tr>\n",
       "      <th>19</th>\n",
       "      <td>0.622602</td>\n",
       "    </tr>\n",
       "    <tr>\n",
       "      <th>20</th>\n",
       "      <td>0.608321</td>\n",
       "    </tr>\n",
       "    <tr>\n",
       "      <th>21</th>\n",
       "      <td>0.527198</td>\n",
       "    </tr>\n",
       "    <tr>\n",
       "      <th>22</th>\n",
       "      <td>0.564138</td>\n",
       "    </tr>\n",
       "    <tr>\n",
       "      <th>23</th>\n",
       "      <td>0.580332</td>\n",
       "    </tr>\n",
       "    <tr>\n",
       "      <th>24</th>\n",
       "      <td>0.543253</td>\n",
       "    </tr>\n",
       "    <tr>\n",
       "      <th>25</th>\n",
       "      <td>0.525402</td>\n",
       "    </tr>\n",
       "    <tr>\n",
       "      <th>26</th>\n",
       "      <td>0.515003</td>\n",
       "    </tr>\n",
       "    <tr>\n",
       "      <th>27</th>\n",
       "      <td>0.537129</td>\n",
       "    </tr>\n",
       "    <tr>\n",
       "      <th>28</th>\n",
       "      <td>0.510391</td>\n",
       "    </tr>\n",
       "    <tr>\n",
       "      <th>29</th>\n",
       "      <td>0.499038</td>\n",
       "    </tr>\n",
       "  </tbody>\n",
       "</table>\n",
       "</div>"
      ],
      "text/plain": [
       "           0\n",
       "0        NaN\n",
       "1        NaN\n",
       "2        NaN\n",
       "3        NaN\n",
       "4        NaN\n",
       "5        NaN\n",
       "6        NaN\n",
       "7        NaN\n",
       "8        NaN\n",
       "9   0.411387\n",
       "10  0.402791\n",
       "11  0.496055\n",
       "12  0.433085\n",
       "13  0.409424\n",
       "14  0.440836\n",
       "15  0.479608\n",
       "16  0.531978\n",
       "17  0.485112\n",
       "18  0.559979\n",
       "19  0.622602\n",
       "20  0.608321\n",
       "21  0.527198\n",
       "22  0.564138\n",
       "23  0.580332\n",
       "24  0.543253\n",
       "25  0.525402\n",
       "26  0.515003\n",
       "27  0.537129\n",
       "28  0.510391\n",
       "29  0.499038"
      ]
     },
     "execution_count": 23,
     "metadata": {},
     "output_type": "execute_result"
    }
   ],
   "source": [
    "# Rolling mean\n",
    "mean = a_1.rolling(10).mean()\n",
    "mean"
   ]
  },
  {
   "cell_type": "markdown",
   "metadata": {},
   "source": [
    "### Two array data"
   ]
  },
  {
   "cell_type": "code",
   "execution_count": 24,
   "metadata": {},
   "outputs": [],
   "source": [
    "# Make data\n",
    "np.random.seed(10)\n",
    "a = np.random.random(30).reshape(10,3)\n",
    "b = np.random.random(30).reshape(10,3)"
   ]
  },
  {
   "cell_type": "code",
   "execution_count": 25,
   "metadata": {},
   "outputs": [
    {
     "data": {
      "text/plain": [
       "((10, 3), (10, 3))"
      ]
     },
     "execution_count": 25,
     "metadata": {},
     "output_type": "execute_result"
    }
   ],
   "source": [
    "a.shape,b.shape"
   ]
  },
  {
   "cell_type": "code",
   "execution_count": 26,
   "metadata": {},
   "outputs": [
    {
     "data": {
      "text/plain": [
       "((10, 3), (10, 3))"
      ]
     },
     "execution_count": 26,
     "metadata": {},
     "output_type": "execute_result"
    }
   ],
   "source": [
    "a_1 = pd.DataFrame(a)\n",
    "b_1 = pd.DataFrame(b)\n",
    "a_1.shape,b_1.shape\n",
    "# print pd.rolling_corr(arg1=a_1, arg2=b_1, window=5)"
   ]
  },
  {
   "cell_type": "code",
   "execution_count": 27,
   "metadata": {},
   "outputs": [
    {
     "data": {
      "text/html": [
       "<div>\n",
       "<style scoped>\n",
       "    .dataframe tbody tr th:only-of-type {\n",
       "        vertical-align: middle;\n",
       "    }\n",
       "\n",
       "    .dataframe tbody tr th {\n",
       "        vertical-align: top;\n",
       "    }\n",
       "\n",
       "    .dataframe thead th {\n",
       "        text-align: right;\n",
       "    }\n",
       "</style>\n",
       "<table border=\"1\" class=\"dataframe\">\n",
       "  <thead>\n",
       "    <tr style=\"text-align: right;\">\n",
       "      <th></th>\n",
       "      <th>0</th>\n",
       "      <th>1</th>\n",
       "      <th>2</th>\n",
       "    </tr>\n",
       "  </thead>\n",
       "  <tbody>\n",
       "    <tr>\n",
       "      <th>0</th>\n",
       "      <td>NaN</td>\n",
       "      <td>NaN</td>\n",
       "      <td>NaN</td>\n",
       "    </tr>\n",
       "    <tr>\n",
       "      <th>1</th>\n",
       "      <td>NaN</td>\n",
       "      <td>NaN</td>\n",
       "      <td>NaN</td>\n",
       "    </tr>\n",
       "    <tr>\n",
       "      <th>2</th>\n",
       "      <td>NaN</td>\n",
       "      <td>NaN</td>\n",
       "      <td>NaN</td>\n",
       "    </tr>\n",
       "    <tr>\n",
       "      <th>3</th>\n",
       "      <td>NaN</td>\n",
       "      <td>NaN</td>\n",
       "      <td>NaN</td>\n",
       "    </tr>\n",
       "    <tr>\n",
       "      <th>4</th>\n",
       "      <td>0.441993</td>\n",
       "      <td>0.254435</td>\n",
       "      <td>0.707801</td>\n",
       "    </tr>\n",
       "    <tr>\n",
       "      <th>5</th>\n",
       "      <td>0.314446</td>\n",
       "      <td>0.233392</td>\n",
       "      <td>0.425191</td>\n",
       "    </tr>\n",
       "    <tr>\n",
       "      <th>6</th>\n",
       "      <td>0.243755</td>\n",
       "      <td>-0.441434</td>\n",
       "      <td>0.352801</td>\n",
       "    </tr>\n",
       "    <tr>\n",
       "      <th>7</th>\n",
       "      <td>0.281139</td>\n",
       "      <td>-0.864357</td>\n",
       "      <td>-0.192409</td>\n",
       "    </tr>\n",
       "    <tr>\n",
       "      <th>8</th>\n",
       "      <td>0.543645</td>\n",
       "      <td>-0.925822</td>\n",
       "      <td>-0.563786</td>\n",
       "    </tr>\n",
       "    <tr>\n",
       "      <th>9</th>\n",
       "      <td>0.445918</td>\n",
       "      <td>-0.784808</td>\n",
       "      <td>-0.532234</td>\n",
       "    </tr>\n",
       "  </tbody>\n",
       "</table>\n",
       "</div>"
      ],
      "text/plain": [
       "          0         1         2\n",
       "0       NaN       NaN       NaN\n",
       "1       NaN       NaN       NaN\n",
       "2       NaN       NaN       NaN\n",
       "3       NaN       NaN       NaN\n",
       "4  0.441993  0.254435  0.707801\n",
       "5  0.314446  0.233392  0.425191\n",
       "6  0.243755 -0.441434  0.352801\n",
       "7  0.281139 -0.864357 -0.192409\n",
       "8  0.543645 -0.925822 -0.563786\n",
       "9  0.445918 -0.784808 -0.532234"
      ]
     },
     "execution_count": 27,
     "metadata": {},
     "output_type": "execute_result"
    }
   ],
   "source": [
    "# s1.rolling(4).corr(s2)\n",
    "a_1.rolling(5).corr(b_1)"
   ]
  },
  {
   "cell_type": "code",
   "execution_count": 28,
   "metadata": {},
   "outputs": [
    {
     "data": {
      "text/html": [
       "<div>\n",
       "<style scoped>\n",
       "    .dataframe tbody tr th:only-of-type {\n",
       "        vertical-align: middle;\n",
       "    }\n",
       "\n",
       "    .dataframe tbody tr th {\n",
       "        vertical-align: top;\n",
       "    }\n",
       "\n",
       "    .dataframe thead th {\n",
       "        text-align: right;\n",
       "    }\n",
       "</style>\n",
       "<table border=\"1\" class=\"dataframe\">\n",
       "  <thead>\n",
       "    <tr style=\"text-align: right;\">\n",
       "      <th></th>\n",
       "      <th>0</th>\n",
       "      <th>1</th>\n",
       "      <th>2</th>\n",
       "    </tr>\n",
       "  </thead>\n",
       "  <tbody>\n",
       "    <tr>\n",
       "      <th>0</th>\n",
       "      <td>NaN</td>\n",
       "      <td>NaN</td>\n",
       "      <td>NaN</td>\n",
       "    </tr>\n",
       "    <tr>\n",
       "      <th>1</th>\n",
       "      <td>NaN</td>\n",
       "      <td>NaN</td>\n",
       "      <td>NaN</td>\n",
       "    </tr>\n",
       "    <tr>\n",
       "      <th>2</th>\n",
       "      <td>NaN</td>\n",
       "      <td>NaN</td>\n",
       "      <td>NaN</td>\n",
       "    </tr>\n",
       "    <tr>\n",
       "      <th>3</th>\n",
       "      <td>NaN</td>\n",
       "      <td>NaN</td>\n",
       "      <td>NaN</td>\n",
       "    </tr>\n",
       "    <tr>\n",
       "      <th>4</th>\n",
       "      <td>1.0</td>\n",
       "      <td>1.0</td>\n",
       "      <td>1.0</td>\n",
       "    </tr>\n",
       "    <tr>\n",
       "      <th>5</th>\n",
       "      <td>1.0</td>\n",
       "      <td>1.0</td>\n",
       "      <td>1.0</td>\n",
       "    </tr>\n",
       "    <tr>\n",
       "      <th>6</th>\n",
       "      <td>1.0</td>\n",
       "      <td>1.0</td>\n",
       "      <td>1.0</td>\n",
       "    </tr>\n",
       "    <tr>\n",
       "      <th>7</th>\n",
       "      <td>1.0</td>\n",
       "      <td>1.0</td>\n",
       "      <td>1.0</td>\n",
       "    </tr>\n",
       "    <tr>\n",
       "      <th>8</th>\n",
       "      <td>1.0</td>\n",
       "      <td>1.0</td>\n",
       "      <td>1.0</td>\n",
       "    </tr>\n",
       "    <tr>\n",
       "      <th>9</th>\n",
       "      <td>1.0</td>\n",
       "      <td>1.0</td>\n",
       "      <td>1.0</td>\n",
       "    </tr>\n",
       "  </tbody>\n",
       "</table>\n",
       "</div>"
      ],
      "text/plain": [
       "     0    1    2\n",
       "0  NaN  NaN  NaN\n",
       "1  NaN  NaN  NaN\n",
       "2  NaN  NaN  NaN\n",
       "3  NaN  NaN  NaN\n",
       "4  1.0  1.0  1.0\n",
       "5  1.0  1.0  1.0\n",
       "6  1.0  1.0  1.0\n",
       "7  1.0  1.0  1.0\n",
       "8  1.0  1.0  1.0\n",
       "9  1.0  1.0  1.0"
      ]
     },
     "execution_count": 28,
     "metadata": {},
     "output_type": "execute_result"
    }
   ],
   "source": [
    "a_1.rolling(5).corr(a_1)"
   ]
  },
  {
   "cell_type": "code",
   "execution_count": 29,
   "metadata": {},
   "outputs": [
    {
     "data": {
      "text/html": [
       "<div>\n",
       "<style scoped>\n",
       "    .dataframe tbody tr th:only-of-type {\n",
       "        vertical-align: middle;\n",
       "    }\n",
       "\n",
       "    .dataframe tbody tr th {\n",
       "        vertical-align: top;\n",
       "    }\n",
       "\n",
       "    .dataframe thead th {\n",
       "        text-align: right;\n",
       "    }\n",
       "</style>\n",
       "<table border=\"1\" class=\"dataframe\">\n",
       "  <thead>\n",
       "    <tr style=\"text-align: right;\">\n",
       "      <th></th>\n",
       "      <th>0</th>\n",
       "      <th>1</th>\n",
       "      <th>2</th>\n",
       "    </tr>\n",
       "  </thead>\n",
       "  <tbody>\n",
       "    <tr>\n",
       "      <th>0</th>\n",
       "      <td>NaN</td>\n",
       "      <td>NaN</td>\n",
       "      <td>NaN</td>\n",
       "    </tr>\n",
       "    <tr>\n",
       "      <th>1</th>\n",
       "      <td>NaN</td>\n",
       "      <td>NaN</td>\n",
       "      <td>NaN</td>\n",
       "    </tr>\n",
       "    <tr>\n",
       "      <th>2</th>\n",
       "      <td>NaN</td>\n",
       "      <td>NaN</td>\n",
       "      <td>NaN</td>\n",
       "    </tr>\n",
       "    <tr>\n",
       "      <th>3</th>\n",
       "      <td>NaN</td>\n",
       "      <td>NaN</td>\n",
       "      <td>NaN</td>\n",
       "    </tr>\n",
       "    <tr>\n",
       "      <th>4</th>\n",
       "      <td>0.362095</td>\n",
       "      <td>0.495468</td>\n",
       "      <td>0.558714</td>\n",
       "    </tr>\n",
       "    <tr>\n",
       "      <th>5</th>\n",
       "      <td>0.330336</td>\n",
       "      <td>0.635669</td>\n",
       "      <td>0.490360</td>\n",
       "    </tr>\n",
       "    <tr>\n",
       "      <th>6</th>\n",
       "      <td>0.364130</td>\n",
       "      <td>0.678883</td>\n",
       "      <td>0.553909</td>\n",
       "    </tr>\n",
       "    <tr>\n",
       "      <th>7</th>\n",
       "      <td>0.352952</td>\n",
       "      <td>0.601445</td>\n",
       "      <td>0.654914</td>\n",
       "    </tr>\n",
       "    <tr>\n",
       "      <th>8</th>\n",
       "      <td>0.423650</td>\n",
       "      <td>0.551176</td>\n",
       "      <td>0.587788</td>\n",
       "    </tr>\n",
       "    <tr>\n",
       "      <th>9</th>\n",
       "      <td>0.525488</td>\n",
       "      <td>0.578817</td>\n",
       "      <td>0.545472</td>\n",
       "    </tr>\n",
       "  </tbody>\n",
       "</table>\n",
       "</div>"
      ],
      "text/plain": [
       "          0         1         2\n",
       "0       NaN       NaN       NaN\n",
       "1       NaN       NaN       NaN\n",
       "2       NaN       NaN       NaN\n",
       "3       NaN       NaN       NaN\n",
       "4  0.362095  0.495468  0.558714\n",
       "5  0.330336  0.635669  0.490360\n",
       "6  0.364130  0.678883  0.553909\n",
       "7  0.352952  0.601445  0.654914\n",
       "8  0.423650  0.551176  0.587788\n",
       "9  0.525488  0.578817  0.545472"
      ]
     },
     "execution_count": 29,
     "metadata": {},
     "output_type": "execute_result"
    }
   ],
   "source": [
    "a_1.rolling(5).mean()"
   ]
  },
  {
   "cell_type": "code",
   "execution_count": 30,
   "metadata": {},
   "outputs": [],
   "source": [
    "# Rolling correlation between two column vectors\n",
    "df = pd.DataFrame(np.array([a[:,0], b[:,0]]).T, columns=['T','H'])"
   ]
  },
  {
   "cell_type": "code",
   "execution_count": 31,
   "metadata": {},
   "outputs": [
    {
     "data": {
      "text/html": [
       "<div>\n",
       "<style scoped>\n",
       "    .dataframe tbody tr th:only-of-type {\n",
       "        vertical-align: middle;\n",
       "    }\n",
       "\n",
       "    .dataframe tbody tr th {\n",
       "        vertical-align: top;\n",
       "    }\n",
       "\n",
       "    .dataframe thead th {\n",
       "        text-align: right;\n",
       "    }\n",
       "</style>\n",
       "<table border=\"1\" class=\"dataframe\">\n",
       "  <thead>\n",
       "    <tr style=\"text-align: right;\">\n",
       "      <th></th>\n",
       "      <th>T</th>\n",
       "      <th>H</th>\n",
       "    </tr>\n",
       "  </thead>\n",
       "  <tbody>\n",
       "    <tr>\n",
       "      <th>0</th>\n",
       "      <td>0.771321</td>\n",
       "      <td>0.805223</td>\n",
       "    </tr>\n",
       "    <tr>\n",
       "      <th>1</th>\n",
       "      <td>0.748804</td>\n",
       "      <td>0.319236</td>\n",
       "    </tr>\n",
       "    <tr>\n",
       "      <th>2</th>\n",
       "      <td>0.198063</td>\n",
       "      <td>0.113984</td>\n",
       "    </tr>\n",
       "    <tr>\n",
       "      <th>3</th>\n",
       "      <td>0.088340</td>\n",
       "      <td>0.626287</td>\n",
       "    </tr>\n",
       "    <tr>\n",
       "      <th>4</th>\n",
       "      <td>0.003948</td>\n",
       "      <td>0.198948</td>\n",
       "    </tr>\n",
       "    <tr>\n",
       "      <th>5</th>\n",
       "      <td>0.612526</td>\n",
       "      <td>0.754648</td>\n",
       "    </tr>\n",
       "    <tr>\n",
       "      <th>6</th>\n",
       "      <td>0.917774</td>\n",
       "      <td>0.325512</td>\n",
       "    </tr>\n",
       "    <tr>\n",
       "      <th>7</th>\n",
       "      <td>0.142170</td>\n",
       "      <td>0.093460</td>\n",
       "    </tr>\n",
       "    <tr>\n",
       "      <th>8</th>\n",
       "      <td>0.441833</td>\n",
       "      <td>0.384114</td>\n",
       "    </tr>\n",
       "    <tr>\n",
       "      <th>9</th>\n",
       "      <td>0.513138</td>\n",
       "      <td>0.456305</td>\n",
       "    </tr>\n",
       "  </tbody>\n",
       "</table>\n",
       "</div>"
      ],
      "text/plain": [
       "          T         H\n",
       "0  0.771321  0.805223\n",
       "1  0.748804  0.319236\n",
       "2  0.198063  0.113984\n",
       "3  0.088340  0.626287\n",
       "4  0.003948  0.198948\n",
       "5  0.612526  0.754648\n",
       "6  0.917774  0.325512\n",
       "7  0.142170  0.093460\n",
       "8  0.441833  0.384114\n",
       "9  0.513138  0.456305"
      ]
     },
     "execution_count": 31,
     "metadata": {},
     "output_type": "execute_result"
    }
   ],
   "source": [
    "df"
   ]
  },
  {
   "cell_type": "code",
   "execution_count": 32,
   "metadata": {},
   "outputs": [
    {
     "data": {
      "text/plain": [
       "0         NaN\n",
       "1         NaN\n",
       "2         NaN\n",
       "3         NaN\n",
       "4    0.441993\n",
       "5    0.314446\n",
       "6    0.243755\n",
       "7    0.281139\n",
       "8    0.543645\n",
       "9    0.445918\n",
       "dtype: float64"
      ]
     },
     "execution_count": 32,
     "metadata": {},
     "output_type": "execute_result"
    }
   ],
   "source": [
    "# rolling correlation between T and H\n",
    "df['T'].rolling(5).corr(df['H'])"
   ]
  },
  {
   "cell_type": "code",
   "execution_count": 33,
   "metadata": {},
   "outputs": [
    {
     "data": {
      "text/plain": [
       "0    NaN\n",
       "1    NaN\n",
       "2    NaN\n",
       "3    NaN\n",
       "4    1.0\n",
       "5    1.0\n",
       "6    1.0\n",
       "7    1.0\n",
       "8    1.0\n",
       "9    1.0\n",
       "Name: T, dtype: float64"
      ]
     },
     "execution_count": 33,
     "metadata": {},
     "output_type": "execute_result"
    }
   ],
   "source": [
    "df['T'].rolling(5).corr(df['T'])"
   ]
  },
  {
   "cell_type": "code",
   "execution_count": 34,
   "metadata": {},
   "outputs": [
    {
     "data": {
      "text/plain": [
       "0    NaN\n",
       "1    NaN\n",
       "2    NaN\n",
       "3    NaN\n",
       "4    1.0\n",
       "5    1.0\n",
       "6    1.0\n",
       "7    1.0\n",
       "8    1.0\n",
       "9    1.0\n",
       "Name: H, dtype: float64"
      ]
     },
     "execution_count": 34,
     "metadata": {},
     "output_type": "execute_result"
    }
   ],
   "source": [
    "df['H'].rolling(5).corr(df['H'])"
   ]
  },
  {
   "cell_type": "code",
   "execution_count": 35,
   "metadata": {},
   "outputs": [
    {
     "data": {
      "text/plain": [
       "(10,)"
      ]
     },
     "execution_count": 35,
     "metadata": {},
     "output_type": "execute_result"
    }
   ],
   "source": [
    "a[:,0].shape"
   ]
  },
  {
   "cell_type": "markdown",
   "metadata": {},
   "source": [
    "### Load real data:  T & H"
   ]
  },
  {
   "cell_type": "code",
   "execution_count": 36,
   "metadata": {},
   "outputs": [
    {
     "data": {
      "text/plain": [
       "(                         temperature  humidity\n",
       " date                                          \n",
       " 2019-03-26 23:36:19.055         28.3      23.4\n",
       " 2019-03-26 23:36:16.052         28.3      23.3\n",
       " 2019-03-26 23:36:13.049         28.3      23.3\n",
       " 2019-03-26 23:36:10.047         28.3      23.1\n",
       " 2019-03-26 23:36:07.046         28.3      23.1,\n",
       "                          temperature  humidity\n",
       " date                                          \n",
       " 2019-03-26 02:33:21.465         23.2      39.6\n",
       " 2019-03-26 02:33:18.463         23.2      39.6\n",
       " 2019-03-26 02:33:15.462         23.2      39.8\n",
       " 2019-03-26 02:33:12.461         23.2      39.5\n",
       " 2019-03-26 02:33:09.460         23.3      39.1)"
      ]
     },
     "execution_count": 36,
     "metadata": {},
     "output_type": "execute_result"
    }
   ],
   "source": [
    "df0=pd.read_csv('./data/s25250.csv', index_col='date')\n",
    "df0.head(),df0.tail()  # check the descending time"
   ]
  },
  {
   "cell_type": "code",
   "execution_count": 37,
   "metadata": {},
   "outputs": [
    {
     "data": {
      "text/plain": [
       "(                         temperature  humidity\n",
       " date                                          \n",
       " 2019-03-26 02:33:09.460         23.3      39.1\n",
       " 2019-03-26 02:33:12.461         23.2      39.5\n",
       " 2019-03-26 02:33:15.462         23.2      39.8\n",
       " 2019-03-26 02:33:18.463         23.2      39.6\n",
       " 2019-03-26 02:33:21.465         23.2      39.6,\n",
       "                          temperature  humidity\n",
       " date                                          \n",
       " 2019-03-26 23:36:07.046         28.3      23.1\n",
       " 2019-03-26 23:36:10.047         28.3      23.1\n",
       " 2019-03-26 23:36:13.049         28.3      23.3\n",
       " 2019-03-26 23:36:16.052         28.3      23.3\n",
       " 2019-03-26 23:36:19.055         28.3      23.4)"
      ]
     },
     "execution_count": 37,
     "metadata": {},
     "output_type": "execute_result"
    }
   ],
   "source": [
    "df = df0.sort_index()\n",
    "df.head(),df.tail()"
   ]
  },
  {
   "cell_type": "code",
   "execution_count": 38,
   "metadata": {},
   "outputs": [],
   "source": [
    "corr = df['temperature'].rolling(20).corr(df['humidity'])"
   ]
  },
  {
   "cell_type": "code",
   "execution_count": 39,
   "metadata": {},
   "outputs": [
    {
     "data": {
      "text/plain": [
       "4254"
      ]
     },
     "execution_count": 39,
     "metadata": {},
     "output_type": "execute_result"
    }
   ],
   "source": [
    "np.isinf(corr).sum()  # corr --> inf"
   ]
  },
  {
   "cell_type": "markdown",
   "metadata": {},
   "source": [
    "### Correction of infinity corrrelation"
   ]
  },
  {
   "cell_type": "code",
   "execution_count": 40,
   "metadata": {},
   "outputs": [],
   "source": [
    "df['temp']=df['temperature']+np.random.rand(len(df))/100"
   ]
  },
  {
   "cell_type": "code",
   "execution_count": 41,
   "metadata": {},
   "outputs": [],
   "source": [
    "corr_TH = df['temp'].rolling(20).corr(df['humidity'])"
   ]
  },
  {
   "cell_type": "code",
   "execution_count": 42,
   "metadata": {},
   "outputs": [
    {
     "data": {
      "text/plain": [
       "0"
      ]
     },
     "execution_count": 42,
     "metadata": {},
     "output_type": "execute_result"
    }
   ],
   "source": [
    "np.isinf(corr_TH).sum()"
   ]
  },
  {
   "cell_type": "code",
   "execution_count": 43,
   "metadata": {},
   "outputs": [],
   "source": [
    "new_df = pd.DataFrame()"
   ]
  },
  {
   "cell_type": "code",
   "execution_count": 44,
   "metadata": {},
   "outputs": [
    {
     "data": {
      "text/plain": [
       "pandas.core.frame.DataFrame"
      ]
     },
     "execution_count": 44,
     "metadata": {},
     "output_type": "execute_result"
    }
   ],
   "source": [
    "type(new_df)"
   ]
  },
  {
   "cell_type": "code",
   "execution_count": 45,
   "metadata": {},
   "outputs": [],
   "source": [
    "idx=list(range(19,len(df),20))"
   ]
  },
  {
   "cell_type": "code",
   "execution_count": 46,
   "metadata": {},
   "outputs": [],
   "source": [
    "date_idx=list(range(0,len(df),20)) # first time of the block"
   ]
  },
  {
   "cell_type": "code",
   "execution_count": 47,
   "metadata": {},
   "outputs": [
    {
     "data": {
      "text/plain": [
       "([19, 39, 59, 79, 99], [0, 20, 40, 60, 80, 100, 120, 140, 160, 180])"
      ]
     },
     "execution_count": 47,
     "metadata": {},
     "output_type": "execute_result"
    }
   ],
   "source": [
    "idx[:5],date_idx[:10]"
   ]
  },
  {
   "cell_type": "code",
   "execution_count": 48,
   "metadata": {},
   "outputs": [],
   "source": [
    "# rolling mean temperature\n",
    "new_df['mT'] = df['temperature'].rolling(20).mean()[idx]"
   ]
  },
  {
   "cell_type": "code",
   "execution_count": 49,
   "metadata": {},
   "outputs": [],
   "source": [
    "# rolling mean humidity\n",
    "new_df['mH'] = df['humidity'].rolling(20).mean()[idx]"
   ]
  },
  {
   "cell_type": "code",
   "execution_count": 50,
   "metadata": {},
   "outputs": [],
   "source": [
    "new_df['corr'] = corr_TH[idx]"
   ]
  },
  {
   "cell_type": "code",
   "execution_count": 51,
   "metadata": {},
   "outputs": [
    {
     "name": "stdout",
     "output_type": "stream",
     "text": [
      "<class 'pandas.core.frame.DataFrame'>\n",
      "Index: 1262 entries, 2019-03-26 02:34:06.504 to 2019-03-26 23:35:49.033\n",
      "Data columns (total 3 columns):\n",
      "mT      1262 non-null float64\n",
      "mH      1262 non-null float64\n",
      "corr    1262 non-null float64\n",
      "dtypes: float64(3)\n",
      "memory usage: 39.4+ KB\n"
     ]
    }
   ],
   "source": [
    "new_df.info()  # index인 시간은 온도와 습도에 연동되어 자동으로 처리된다."
   ]
  },
  {
   "cell_type": "code",
   "execution_count": 52,
   "metadata": {},
   "outputs": [
    {
     "data": {
      "text/html": [
       "<div>\n",
       "<style scoped>\n",
       "    .dataframe tbody tr th:only-of-type {\n",
       "        vertical-align: middle;\n",
       "    }\n",
       "\n",
       "    .dataframe tbody tr th {\n",
       "        vertical-align: top;\n",
       "    }\n",
       "\n",
       "    .dataframe thead th {\n",
       "        text-align: right;\n",
       "    }\n",
       "</style>\n",
       "<table border=\"1\" class=\"dataframe\">\n",
       "  <thead>\n",
       "    <tr style=\"text-align: right;\">\n",
       "      <th></th>\n",
       "      <th>mT</th>\n",
       "      <th>mH</th>\n",
       "      <th>corr</th>\n",
       "    </tr>\n",
       "    <tr>\n",
       "      <th>date</th>\n",
       "      <th></th>\n",
       "      <th></th>\n",
       "      <th></th>\n",
       "    </tr>\n",
       "  </thead>\n",
       "  <tbody>\n",
       "    <tr>\n",
       "      <th>2019-03-26 02:34:06.504</th>\n",
       "      <td>23.205</td>\n",
       "      <td>39.750</td>\n",
       "      <td>-0.587391</td>\n",
       "    </tr>\n",
       "    <tr>\n",
       "      <th>2019-03-26 02:35:06.542</th>\n",
       "      <td>24.290</td>\n",
       "      <td>92.100</td>\n",
       "      <td>0.469968</td>\n",
       "    </tr>\n",
       "    <tr>\n",
       "      <th>2019-03-26 02:36:06.582</th>\n",
       "      <td>23.285</td>\n",
       "      <td>51.075</td>\n",
       "      <td>-0.526759</td>\n",
       "    </tr>\n",
       "    <tr>\n",
       "      <th>2019-03-26 02:37:06.627</th>\n",
       "      <td>23.300</td>\n",
       "      <td>39.860</td>\n",
       "      <td>-0.356571</td>\n",
       "    </tr>\n",
       "    <tr>\n",
       "      <th>2019-03-26 02:38:06.663</th>\n",
       "      <td>23.300</td>\n",
       "      <td>39.130</td>\n",
       "      <td>-0.251941</td>\n",
       "    </tr>\n",
       "  </tbody>\n",
       "</table>\n",
       "</div>"
      ],
      "text/plain": [
       "                             mT      mH      corr\n",
       "date                                             \n",
       "2019-03-26 02:34:06.504  23.205  39.750 -0.587391\n",
       "2019-03-26 02:35:06.542  24.290  92.100  0.469968\n",
       "2019-03-26 02:36:06.582  23.285  51.075 -0.526759\n",
       "2019-03-26 02:37:06.627  23.300  39.860 -0.356571\n",
       "2019-03-26 02:38:06.663  23.300  39.130 -0.251941"
      ]
     },
     "execution_count": 52,
     "metadata": {},
     "output_type": "execute_result"
    }
   ],
   "source": [
    "new_df.head()"
   ]
  },
  {
   "cell_type": "code",
   "execution_count": 53,
   "metadata": {},
   "outputs": [
    {
     "data": {
      "text/html": [
       "<div>\n",
       "<style scoped>\n",
       "    .dataframe tbody tr th:only-of-type {\n",
       "        vertical-align: middle;\n",
       "    }\n",
       "\n",
       "    .dataframe tbody tr th {\n",
       "        vertical-align: top;\n",
       "    }\n",
       "\n",
       "    .dataframe thead th {\n",
       "        text-align: right;\n",
       "    }\n",
       "</style>\n",
       "<table border=\"1\" class=\"dataframe\">\n",
       "  <thead>\n",
       "    <tr style=\"text-align: right;\">\n",
       "      <th></th>\n",
       "      <th>temperature</th>\n",
       "      <th>humidity</th>\n",
       "      <th>temp</th>\n",
       "    </tr>\n",
       "    <tr>\n",
       "      <th>date</th>\n",
       "      <th></th>\n",
       "      <th></th>\n",
       "      <th></th>\n",
       "    </tr>\n",
       "  </thead>\n",
       "  <tbody>\n",
       "    <tr>\n",
       "      <th>2019-03-26 02:33:09.460</th>\n",
       "      <td>23.3</td>\n",
       "      <td>39.1</td>\n",
       "      <td>23.305974</td>\n",
       "    </tr>\n",
       "    <tr>\n",
       "      <th>2019-03-26 02:33:12.461</th>\n",
       "      <td>23.2</td>\n",
       "      <td>39.5</td>\n",
       "      <td>23.209028</td>\n",
       "    </tr>\n",
       "    <tr>\n",
       "      <th>2019-03-26 02:33:15.462</th>\n",
       "      <td>23.2</td>\n",
       "      <td>39.8</td>\n",
       "      <td>23.205346</td>\n",
       "    </tr>\n",
       "    <tr>\n",
       "      <th>2019-03-26 02:33:18.463</th>\n",
       "      <td>23.2</td>\n",
       "      <td>39.6</td>\n",
       "      <td>23.205902</td>\n",
       "    </tr>\n",
       "    <tr>\n",
       "      <th>2019-03-26 02:33:21.465</th>\n",
       "      <td>23.2</td>\n",
       "      <td>39.6</td>\n",
       "      <td>23.200393</td>\n",
       "    </tr>\n",
       "    <tr>\n",
       "      <th>2019-03-26 02:33:24.468</th>\n",
       "      <td>23.2</td>\n",
       "      <td>39.8</td>\n",
       "      <td>23.203572</td>\n",
       "    </tr>\n",
       "    <tr>\n",
       "      <th>2019-03-26 02:33:27.481</th>\n",
       "      <td>23.2</td>\n",
       "      <td>39.7</td>\n",
       "      <td>23.200796</td>\n",
       "    </tr>\n",
       "    <tr>\n",
       "      <th>2019-03-26 02:33:30.483</th>\n",
       "      <td>23.2</td>\n",
       "      <td>39.8</td>\n",
       "      <td>23.203055</td>\n",
       "    </tr>\n",
       "    <tr>\n",
       "      <th>2019-03-26 02:33:33.483</th>\n",
       "      <td>23.2</td>\n",
       "      <td>39.2</td>\n",
       "      <td>23.203307</td>\n",
       "    </tr>\n",
       "    <tr>\n",
       "      <th>2019-03-26 02:33:36.485</th>\n",
       "      <td>23.2</td>\n",
       "      <td>39.8</td>\n",
       "      <td>23.207738</td>\n",
       "    </tr>\n",
       "    <tr>\n",
       "      <th>2019-03-26 02:33:39.486</th>\n",
       "      <td>23.2</td>\n",
       "      <td>39.9</td>\n",
       "      <td>23.200400</td>\n",
       "    </tr>\n",
       "    <tr>\n",
       "      <th>2019-03-26 02:33:42.489</th>\n",
       "      <td>23.2</td>\n",
       "      <td>39.9</td>\n",
       "      <td>23.204295</td>\n",
       "    </tr>\n",
       "    <tr>\n",
       "      <th>2019-03-26 02:33:45.489</th>\n",
       "      <td>23.2</td>\n",
       "      <td>39.8</td>\n",
       "      <td>23.203149</td>\n",
       "    </tr>\n",
       "    <tr>\n",
       "      <th>2019-03-26 02:33:48.493</th>\n",
       "      <td>23.2</td>\n",
       "      <td>39.8</td>\n",
       "      <td>23.206365</td>\n",
       "    </tr>\n",
       "    <tr>\n",
       "      <th>2019-03-26 02:33:51.496</th>\n",
       "      <td>23.2</td>\n",
       "      <td>40.0</td>\n",
       "      <td>23.203463</td>\n",
       "    </tr>\n",
       "    <tr>\n",
       "      <th>2019-03-26 02:33:54.499</th>\n",
       "      <td>23.2</td>\n",
       "      <td>40.1</td>\n",
       "      <td>23.200431</td>\n",
       "    </tr>\n",
       "    <tr>\n",
       "      <th>2019-03-26 02:33:57.500</th>\n",
       "      <td>23.2</td>\n",
       "      <td>40.1</td>\n",
       "      <td>23.208799</td>\n",
       "    </tr>\n",
       "    <tr>\n",
       "      <th>2019-03-26 02:34:00.500</th>\n",
       "      <td>23.2</td>\n",
       "      <td>39.9</td>\n",
       "      <td>23.207632</td>\n",
       "    </tr>\n",
       "    <tr>\n",
       "      <th>2019-03-26 02:34:03.503</th>\n",
       "      <td>23.2</td>\n",
       "      <td>39.9</td>\n",
       "      <td>23.208781</td>\n",
       "    </tr>\n",
       "    <tr>\n",
       "      <th>2019-03-26 02:34:06.504</th>\n",
       "      <td>23.2</td>\n",
       "      <td>39.7</td>\n",
       "      <td>23.204175</td>\n",
       "    </tr>\n",
       "    <tr>\n",
       "      <th>2019-03-26 02:34:09.506</th>\n",
       "      <td>23.2</td>\n",
       "      <td>42.7</td>\n",
       "      <td>23.206056</td>\n",
       "    </tr>\n",
       "    <tr>\n",
       "      <th>2019-03-26 02:34:12.509</th>\n",
       "      <td>23.1</td>\n",
       "      <td>88.2</td>\n",
       "      <td>23.105135</td>\n",
       "    </tr>\n",
       "  </tbody>\n",
       "</table>\n",
       "</div>"
      ],
      "text/plain": [
       "                         temperature  humidity       temp\n",
       "date                                                     \n",
       "2019-03-26 02:33:09.460         23.3      39.1  23.305974\n",
       "2019-03-26 02:33:12.461         23.2      39.5  23.209028\n",
       "2019-03-26 02:33:15.462         23.2      39.8  23.205346\n",
       "2019-03-26 02:33:18.463         23.2      39.6  23.205902\n",
       "2019-03-26 02:33:21.465         23.2      39.6  23.200393\n",
       "2019-03-26 02:33:24.468         23.2      39.8  23.203572\n",
       "2019-03-26 02:33:27.481         23.2      39.7  23.200796\n",
       "2019-03-26 02:33:30.483         23.2      39.8  23.203055\n",
       "2019-03-26 02:33:33.483         23.2      39.2  23.203307\n",
       "2019-03-26 02:33:36.485         23.2      39.8  23.207738\n",
       "2019-03-26 02:33:39.486         23.2      39.9  23.200400\n",
       "2019-03-26 02:33:42.489         23.2      39.9  23.204295\n",
       "2019-03-26 02:33:45.489         23.2      39.8  23.203149\n",
       "2019-03-26 02:33:48.493         23.2      39.8  23.206365\n",
       "2019-03-26 02:33:51.496         23.2      40.0  23.203463\n",
       "2019-03-26 02:33:54.499         23.2      40.1  23.200431\n",
       "2019-03-26 02:33:57.500         23.2      40.1  23.208799\n",
       "2019-03-26 02:34:00.500         23.2      39.9  23.207632\n",
       "2019-03-26 02:34:03.503         23.2      39.9  23.208781\n",
       "2019-03-26 02:34:06.504         23.2      39.7  23.204175\n",
       "2019-03-26 02:34:09.506         23.2      42.7  23.206056\n",
       "2019-03-26 02:34:12.509         23.1      88.2  23.105135"
      ]
     },
     "execution_count": 53,
     "metadata": {},
     "output_type": "execute_result"
    }
   ],
   "source": [
    "df[:22]"
   ]
  },
  {
   "cell_type": "code",
   "execution_count": 54,
   "metadata": {},
   "outputs": [],
   "source": [
    "%matplotlib inline"
   ]
  },
  {
   "cell_type": "code",
   "execution_count": 55,
   "metadata": {},
   "outputs": [],
   "source": [
    "def truncate(n, decimals=0):\n",
    "    multiplier = 10 ** decimals\n",
    "    return int(n * multiplier) / multiplier"
   ]
  },
  {
   "cell_type": "code",
   "execution_count": 56,
   "metadata": {},
   "outputs": [
    {
     "data": {
      "text/plain": [
       "mT      22.225987\n",
       "mH      33.511684\n",
       "corr     0.007833\n",
       "dtype: float64"
      ]
     },
     "execution_count": 56,
     "metadata": {},
     "output_type": "execute_result"
    }
   ],
   "source": [
    "new_df.mean()"
   ]
  },
  {
   "cell_type": "code",
   "execution_count": 57,
   "metadata": {},
   "outputs": [
    {
     "data": {
      "text/plain": [
       "<matplotlib.axes._subplots.AxesSubplot at 0x1914d15c160>"
      ]
     },
     "execution_count": 57,
     "metadata": {},
     "output_type": "execute_result"
    },
    {
     "data": {
      "image/png": "[encoded data removed]",
      "text/plain": [
       "<Figure size 720x360 with 1 Axes>"
      ]
     },
     "metadata": {
      "needs_background": "light"
     },
     "output_type": "display_data"
    }
   ],
   "source": [
    "new_df.mean().plot.bar(figsize=(10,5), title=\"mean T & H in minutes\")"
   ]
  },
  {
   "cell_type": "code",
   "execution_count": 58,
   "metadata": {},
   "outputs": [
    {
     "data": {
      "text/plain": [
       "<matplotlib.axes._subplots.AxesSubplot at 0x1914f213d68>"
      ]
     },
     "execution_count": 58,
     "metadata": {},
     "output_type": "execute_result"
    },
    {
     "data": {
      "image/png": "[encoded data removed]",
      "text/plain": [
       "<Figure size 864x432 with 1 Axes>"
      ]
     },
     "metadata": {
      "needs_background": "light"
     },
     "output_type": "display_data"
    }
   ],
   "source": [
    "new_df.plot(figsize=(12,6))"
   ]
  },
  {
   "cell_type": "markdown",
   "metadata": {},
   "source": [
    "> 문자열인 시간이 겹쳐서 그려지는 문제를 해결하는 방법은?\n",
    "- Convert index (type:string) to timestamp"
   ]
  },
  {
   "cell_type": "code",
   "execution_count": 59,
   "metadata": {},
   "outputs": [],
   "source": [
    "# Convert index (type:string) to timestamp\n",
    "new_df.index = pd.to_datetime(new_df.index)"
   ]
  },
  {
   "cell_type": "code",
   "execution_count": 60,
   "metadata": {},
   "outputs": [
    {
     "name": "stdout",
     "output_type": "stream",
     "text": [
      "<class 'pandas.core.frame.DataFrame'>\n",
      "DatetimeIndex: 1262 entries, 2019-03-26 02:34:06.504000 to 2019-03-26 23:35:49.033000\n",
      "Data columns (total 3 columns):\n",
      "mT      1262 non-null float64\n",
      "mH      1262 non-null float64\n",
      "corr    1262 non-null float64\n",
      "dtypes: float64(3)\n",
      "memory usage: 39.4 KB\n"
     ]
    }
   ],
   "source": [
    "new_df.info()"
   ]
  },
  {
   "cell_type": "code",
   "execution_count": 61,
   "metadata": {},
   "outputs": [
    {
     "data": {
      "text/plain": [
       "<matplotlib.axes._subplots.AxesSubplot at 0x1914f2acba8>"
      ]
     },
     "execution_count": 61,
     "metadata": {},
     "output_type": "execute_result"
    },
    {
     "data": {
      "image/png": "[encoded data removed]",
      "text/plain": [
       "<Figure size 864x432 with 1 Axes>"
      ]
     },
     "metadata": {
      "needs_background": "light"
     },
     "output_type": "display_data"
    }
   ],
   "source": [
    "new_df.plot(figsize=(12,6))"
   ]
  },
  {
   "cell_type": "code",
   "execution_count": 62,
   "metadata": {},
   "outputs": [
    {
     "data": {
      "text/html": [
       "<div>\n",
       "<style scoped>\n",
       "    .dataframe tbody tr th:only-of-type {\n",
       "        vertical-align: middle;\n",
       "    }\n",
       "\n",
       "    .dataframe tbody tr th {\n",
       "        vertical-align: top;\n",
       "    }\n",
       "\n",
       "    .dataframe thead th {\n",
       "        text-align: right;\n",
       "    }\n",
       "</style>\n",
       "<table border=\"1\" class=\"dataframe\">\n",
       "  <thead>\n",
       "    <tr style=\"text-align: right;\">\n",
       "      <th></th>\n",
       "      <th>mT</th>\n",
       "      <th>mH</th>\n",
       "      <th>corr</th>\n",
       "    </tr>\n",
       "    <tr>\n",
       "      <th>date</th>\n",
       "      <th></th>\n",
       "      <th></th>\n",
       "      <th></th>\n",
       "    </tr>\n",
       "  </thead>\n",
       "  <tbody>\n",
       "    <tr>\n",
       "      <th>2019-03-26 02:30:00</th>\n",
       "      <td>23.205</td>\n",
       "      <td>39.750</td>\n",
       "      <td>-0.587391</td>\n",
       "    </tr>\n",
       "    <tr>\n",
       "      <th>2019-03-26 02:35:00</th>\n",
       "      <td>23.493</td>\n",
       "      <td>52.222</td>\n",
       "      <td>-0.038767</td>\n",
       "    </tr>\n",
       "    <tr>\n",
       "      <th>2019-03-26 02:40:00</th>\n",
       "      <td>23.192</td>\n",
       "      <td>38.898</td>\n",
       "      <td>0.120781</td>\n",
       "    </tr>\n",
       "    <tr>\n",
       "      <th>2019-03-26 02:45:00</th>\n",
       "      <td>23.138</td>\n",
       "      <td>38.779</td>\n",
       "      <td>0.062276</td>\n",
       "    </tr>\n",
       "    <tr>\n",
       "      <th>2019-03-26 02:50:00</th>\n",
       "      <td>23.613</td>\n",
       "      <td>62.182</td>\n",
       "      <td>0.509882</td>\n",
       "    </tr>\n",
       "    <tr>\n",
       "      <th>2019-03-26 02:55:00</th>\n",
       "      <td>23.204</td>\n",
       "      <td>39.445</td>\n",
       "      <td>0.025981</td>\n",
       "    </tr>\n",
       "    <tr>\n",
       "      <th>2019-03-26 03:00:00</th>\n",
       "      <td>23.199</td>\n",
       "      <td>38.691</td>\n",
       "      <td>-0.221972</td>\n",
       "    </tr>\n",
       "    <tr>\n",
       "      <th>2019-03-26 03:05:00</th>\n",
       "      <td>23.140</td>\n",
       "      <td>38.642</td>\n",
       "      <td>-0.051954</td>\n",
       "    </tr>\n",
       "    <tr>\n",
       "      <th>2019-03-26 03:10:00</th>\n",
       "      <td>23.148</td>\n",
       "      <td>39.313</td>\n",
       "      <td>0.069319</td>\n",
       "    </tr>\n",
       "    <tr>\n",
       "      <th>2019-03-26 03:15:00</th>\n",
       "      <td>22.945</td>\n",
       "      <td>37.374</td>\n",
       "      <td>0.017634</td>\n",
       "    </tr>\n",
       "    <tr>\n",
       "      <th>2019-03-26 03:20:00</th>\n",
       "      <td>22.441</td>\n",
       "      <td>38.513</td>\n",
       "      <td>-0.064265</td>\n",
       "    </tr>\n",
       "    <tr>\n",
       "      <th>2019-03-26 03:25:00</th>\n",
       "      <td>22.259</td>\n",
       "      <td>39.078</td>\n",
       "      <td>-0.092124</td>\n",
       "    </tr>\n",
       "    <tr>\n",
       "      <th>2019-03-26 03:30:00</th>\n",
       "      <td>22.094</td>\n",
       "      <td>39.603</td>\n",
       "      <td>-0.047898</td>\n",
       "    </tr>\n",
       "    <tr>\n",
       "      <th>2019-03-26 03:35:00</th>\n",
       "      <td>21.974</td>\n",
       "      <td>39.992</td>\n",
       "      <td>-0.157302</td>\n",
       "    </tr>\n",
       "    <tr>\n",
       "      <th>2019-03-26 03:40:00</th>\n",
       "      <td>21.890</td>\n",
       "      <td>40.376</td>\n",
       "      <td>0.081020</td>\n",
       "    </tr>\n",
       "    <tr>\n",
       "      <th>2019-03-26 03:45:00</th>\n",
       "      <td>21.805</td>\n",
       "      <td>40.658</td>\n",
       "      <td>-0.025464</td>\n",
       "    </tr>\n",
       "    <tr>\n",
       "      <th>2019-03-26 03:50:00</th>\n",
       "      <td>21.799</td>\n",
       "      <td>40.923</td>\n",
       "      <td>0.077702</td>\n",
       "    </tr>\n",
       "    <tr>\n",
       "      <th>2019-03-26 03:55:00</th>\n",
       "      <td>21.714</td>\n",
       "      <td>41.217</td>\n",
       "      <td>0.024737</td>\n",
       "    </tr>\n",
       "    <tr>\n",
       "      <th>2019-03-26 04:00:00</th>\n",
       "      <td>21.695</td>\n",
       "      <td>41.397</td>\n",
       "      <td>0.147452</td>\n",
       "    </tr>\n",
       "    <tr>\n",
       "      <th>2019-03-26 04:05:00</th>\n",
       "      <td>21.616</td>\n",
       "      <td>41.599</td>\n",
       "      <td>0.056935</td>\n",
       "    </tr>\n",
       "    <tr>\n",
       "      <th>2019-03-26 04:10:00</th>\n",
       "      <td>21.600</td>\n",
       "      <td>41.661</td>\n",
       "      <td>-0.045323</td>\n",
       "    </tr>\n",
       "    <tr>\n",
       "      <th>2019-03-26 04:15:00</th>\n",
       "      <td>21.599</td>\n",
       "      <td>41.740</td>\n",
       "      <td>0.035625</td>\n",
       "    </tr>\n",
       "    <tr>\n",
       "      <th>2019-03-26 04:20:00</th>\n",
       "      <td>21.587</td>\n",
       "      <td>41.892</td>\n",
       "      <td>0.144807</td>\n",
       "    </tr>\n",
       "    <tr>\n",
       "      <th>2019-03-26 04:25:00</th>\n",
       "      <td>21.517</td>\n",
       "      <td>41.929</td>\n",
       "      <td>0.051686</td>\n",
       "    </tr>\n",
       "    <tr>\n",
       "      <th>2019-03-26 04:30:00</th>\n",
       "      <td>21.500</td>\n",
       "      <td>42.134</td>\n",
       "      <td>-0.072407</td>\n",
       "    </tr>\n",
       "    <tr>\n",
       "      <th>2019-03-26 04:35:00</th>\n",
       "      <td>21.500</td>\n",
       "      <td>42.254</td>\n",
       "      <td>0.102278</td>\n",
       "    </tr>\n",
       "    <tr>\n",
       "      <th>2019-03-26 04:40:00</th>\n",
       "      <td>21.500</td>\n",
       "      <td>42.794</td>\n",
       "      <td>0.039319</td>\n",
       "    </tr>\n",
       "    <tr>\n",
       "      <th>2019-03-26 04:45:00</th>\n",
       "      <td>21.500</td>\n",
       "      <td>43.199</td>\n",
       "      <td>-0.016845</td>\n",
       "    </tr>\n",
       "    <tr>\n",
       "      <th>2019-03-26 04:50:00</th>\n",
       "      <td>21.500</td>\n",
       "      <td>43.312</td>\n",
       "      <td>-0.008163</td>\n",
       "    </tr>\n",
       "    <tr>\n",
       "      <th>2019-03-26 04:55:00</th>\n",
       "      <td>21.496</td>\n",
       "      <td>43.317</td>\n",
       "      <td>-0.062987</td>\n",
       "    </tr>\n",
       "    <tr>\n",
       "      <th>...</th>\n",
       "      <td>...</td>\n",
       "      <td>...</td>\n",
       "      <td>...</td>\n",
       "    </tr>\n",
       "    <tr>\n",
       "      <th>2019-03-26 21:10:00</th>\n",
       "      <td>23.164</td>\n",
       "      <td>30.638</td>\n",
       "      <td>-0.032687</td>\n",
       "    </tr>\n",
       "    <tr>\n",
       "      <th>2019-03-26 21:15:00</th>\n",
       "      <td>23.290</td>\n",
       "      <td>30.417</td>\n",
       "      <td>0.070649</td>\n",
       "    </tr>\n",
       "    <tr>\n",
       "      <th>2019-03-26 21:20:00</th>\n",
       "      <td>23.356</td>\n",
       "      <td>29.749</td>\n",
       "      <td>-0.176167</td>\n",
       "    </tr>\n",
       "    <tr>\n",
       "      <th>2019-03-26 21:25:00</th>\n",
       "      <td>23.391</td>\n",
       "      <td>29.367</td>\n",
       "      <td>0.002647</td>\n",
       "    </tr>\n",
       "    <tr>\n",
       "      <th>2019-03-26 21:30:00</th>\n",
       "      <td>23.457</td>\n",
       "      <td>29.037</td>\n",
       "      <td>0.094108</td>\n",
       "    </tr>\n",
       "    <tr>\n",
       "      <th>2019-03-26 21:35:00</th>\n",
       "      <td>23.593</td>\n",
       "      <td>29.571</td>\n",
       "      <td>-0.001392</td>\n",
       "    </tr>\n",
       "    <tr>\n",
       "      <th>2019-03-26 21:40:00</th>\n",
       "      <td>23.643</td>\n",
       "      <td>29.934</td>\n",
       "      <td>0.088650</td>\n",
       "    </tr>\n",
       "    <tr>\n",
       "      <th>2019-03-26 21:45:00</th>\n",
       "      <td>23.716</td>\n",
       "      <td>30.021</td>\n",
       "      <td>0.051618</td>\n",
       "    </tr>\n",
       "    <tr>\n",
       "      <th>2019-03-26 21:50:00</th>\n",
       "      <td>23.820</td>\n",
       "      <td>30.075</td>\n",
       "      <td>0.056543</td>\n",
       "    </tr>\n",
       "    <tr>\n",
       "      <th>2019-03-26 21:55:00</th>\n",
       "      <td>23.884</td>\n",
       "      <td>30.512</td>\n",
       "      <td>0.066799</td>\n",
       "    </tr>\n",
       "    <tr>\n",
       "      <th>2019-03-26 22:00:00</th>\n",
       "      <td>23.740</td>\n",
       "      <td>30.491</td>\n",
       "      <td>-0.017616</td>\n",
       "    </tr>\n",
       "    <tr>\n",
       "      <th>2019-03-26 22:05:00</th>\n",
       "      <td>23.658</td>\n",
       "      <td>30.704</td>\n",
       "      <td>0.116143</td>\n",
       "    </tr>\n",
       "    <tr>\n",
       "      <th>2019-03-26 22:10:00</th>\n",
       "      <td>23.614</td>\n",
       "      <td>31.014</td>\n",
       "      <td>0.043729</td>\n",
       "    </tr>\n",
       "    <tr>\n",
       "      <th>2019-03-26 22:15:00</th>\n",
       "      <td>23.603</td>\n",
       "      <td>31.249</td>\n",
       "      <td>0.242305</td>\n",
       "    </tr>\n",
       "    <tr>\n",
       "      <th>2019-03-26 22:20:00</th>\n",
       "      <td>23.581</td>\n",
       "      <td>30.970</td>\n",
       "      <td>-0.006015</td>\n",
       "    </tr>\n",
       "    <tr>\n",
       "      <th>2019-03-26 22:25:00</th>\n",
       "      <td>23.318</td>\n",
       "      <td>29.528</td>\n",
       "      <td>-0.083130</td>\n",
       "    </tr>\n",
       "    <tr>\n",
       "      <th>2019-03-26 22:30:00</th>\n",
       "      <td>23.089</td>\n",
       "      <td>27.629</td>\n",
       "      <td>-0.016278</td>\n",
       "    </tr>\n",
       "    <tr>\n",
       "      <th>2019-03-26 22:35:00</th>\n",
       "      <td>23.242</td>\n",
       "      <td>27.805</td>\n",
       "      <td>-0.570000</td>\n",
       "    </tr>\n",
       "    <tr>\n",
       "      <th>2019-03-26 22:40:00</th>\n",
       "      <td>25.197</td>\n",
       "      <td>23.314</td>\n",
       "      <td>-0.087128</td>\n",
       "    </tr>\n",
       "    <tr>\n",
       "      <th>2019-03-26 22:45:00</th>\n",
       "      <td>26.404</td>\n",
       "      <td>23.050</td>\n",
       "      <td>0.074154</td>\n",
       "    </tr>\n",
       "    <tr>\n",
       "      <th>2019-03-26 22:50:00</th>\n",
       "      <td>27.014</td>\n",
       "      <td>22.236</td>\n",
       "      <td>0.119199</td>\n",
       "    </tr>\n",
       "    <tr>\n",
       "      <th>2019-03-26 22:55:00</th>\n",
       "      <td>27.331</td>\n",
       "      <td>23.312</td>\n",
       "      <td>-0.020598</td>\n",
       "    </tr>\n",
       "    <tr>\n",
       "      <th>2019-03-26 23:00:00</th>\n",
       "      <td>27.069</td>\n",
       "      <td>24.374</td>\n",
       "      <td>-0.380278</td>\n",
       "    </tr>\n",
       "    <tr>\n",
       "      <th>2019-03-26 23:05:00</th>\n",
       "      <td>26.988</td>\n",
       "      <td>24.151</td>\n",
       "      <td>-0.137647</td>\n",
       "    </tr>\n",
       "    <tr>\n",
       "      <th>2019-03-26 23:10:00</th>\n",
       "      <td>27.013</td>\n",
       "      <td>24.251</td>\n",
       "      <td>-0.110650</td>\n",
       "    </tr>\n",
       "    <tr>\n",
       "      <th>2019-03-26 23:15:00</th>\n",
       "      <td>27.574</td>\n",
       "      <td>23.789</td>\n",
       "      <td>-0.235694</td>\n",
       "    </tr>\n",
       "    <tr>\n",
       "      <th>2019-03-26 23:20:00</th>\n",
       "      <td>27.903</td>\n",
       "      <td>23.539</td>\n",
       "      <td>0.128951</td>\n",
       "    </tr>\n",
       "    <tr>\n",
       "      <th>2019-03-26 23:25:00</th>\n",
       "      <td>27.928</td>\n",
       "      <td>23.743</td>\n",
       "      <td>0.163760</td>\n",
       "    </tr>\n",
       "    <tr>\n",
       "      <th>2019-03-26 23:30:00</th>\n",
       "      <td>28.028</td>\n",
       "      <td>24.000</td>\n",
       "      <td>-0.005549</td>\n",
       "    </tr>\n",
       "    <tr>\n",
       "      <th>2019-03-26 23:35:00</th>\n",
       "      <td>28.365</td>\n",
       "      <td>23.135</td>\n",
       "      <td>-0.340278</td>\n",
       "    </tr>\n",
       "  </tbody>\n",
       "</table>\n",
       "<p>254 rows × 3 columns</p>\n",
       "</div>"
      ],
      "text/plain": [
       "                         mT      mH      corr\n",
       "date                                         \n",
       "2019-03-26 02:30:00  23.205  39.750 -0.587391\n",
       "2019-03-26 02:35:00  23.493  52.222 -0.038767\n",
       "2019-03-26 02:40:00  23.192  38.898  0.120781\n",
       "2019-03-26 02:45:00  23.138  38.779  0.062276\n",
       "2019-03-26 02:50:00  23.613  62.182  0.509882\n",
       "2019-03-26 02:55:00  23.204  39.445  0.025981\n",
       "2019-03-26 03:00:00  23.199  38.691 -0.221972\n",
       "2019-03-26 03:05:00  23.140  38.642 -0.051954\n",
       "2019-03-26 03:10:00  23.148  39.313  0.069319\n",
       "2019-03-26 03:15:00  22.945  37.374  0.017634\n",
       "2019-03-26 03:20:00  22.441  38.513 -0.064265\n",
       "2019-03-26 03:25:00  22.259  39.078 -0.092124\n",
       "2019-03-26 03:30:00  22.094  39.603 -0.047898\n",
       "2019-03-26 03:35:00  21.974  39.992 -0.157302\n",
       "2019-03-26 03:40:00  21.890  40.376  0.081020\n",
       "2019-03-26 03:45:00  21.805  40.658 -0.025464\n",
       "2019-03-26 03:50:00  21.799  40.923  0.077702\n",
       "2019-03-26 03:55:00  21.714  41.217  0.024737\n",
       "2019-03-26 04:00:00  21.695  41.397  0.147452\n",
       "2019-03-26 04:05:00  21.616  41.599  0.056935\n",
       "2019-03-26 04:10:00  21.600  41.661 -0.045323\n",
       "2019-03-26 04:15:00  21.599  41.740  0.035625\n",
       "2019-03-26 04:20:00  21.587  41.892  0.144807\n",
       "2019-03-26 04:25:00  21.517  41.929  0.051686\n",
       "2019-03-26 04:30:00  21.500  42.134 -0.072407\n",
       "2019-03-26 04:35:00  21.500  42.254  0.102278\n",
       "2019-03-26 04:40:00  21.500  42.794  0.039319\n",
       "2019-03-26 04:45:00  21.500  43.199 -0.016845\n",
       "2019-03-26 04:50:00  21.500  43.312 -0.008163\n",
       "2019-03-26 04:55:00  21.496  43.317 -0.062987\n",
       "...                     ...     ...       ...\n",
       "2019-03-26 21:10:00  23.164  30.638 -0.032687\n",
       "2019-03-26 21:15:00  23.290  30.417  0.070649\n",
       "2019-03-26 21:20:00  23.356  29.749 -0.176167\n",
       "2019-03-26 21:25:00  23.391  29.367  0.002647\n",
       "2019-03-26 21:30:00  23.457  29.037  0.094108\n",
       "2019-03-26 21:35:00  23.593  29.571 -0.001392\n",
       "2019-03-26 21:40:00  23.643  29.934  0.088650\n",
       "2019-03-26 21:45:00  23.716  30.021  0.051618\n",
       "2019-03-26 21:50:00  23.820  30.075  0.056543\n",
       "2019-03-26 21:55:00  23.884  30.512  0.066799\n",
       "2019-03-26 22:00:00  23.740  30.491 -0.017616\n",
       "2019-03-26 22:05:00  23.658  30.704  0.116143\n",
       "2019-03-26 22:10:00  23.614  31.014  0.043729\n",
       "2019-03-26 22:15:00  23.603  31.249  0.242305\n",
       "2019-03-26 22:20:00  23.581  30.970 -0.006015\n",
       "2019-03-26 22:25:00  23.318  29.528 -0.083130\n",
       "2019-03-26 22:30:00  23.089  27.629 -0.016278\n",
       "2019-03-26 22:35:00  23.242  27.805 -0.570000\n",
       "2019-03-26 22:40:00  25.197  23.314 -0.087128\n",
       "2019-03-26 22:45:00  26.404  23.050  0.074154\n",
       "2019-03-26 22:50:00  27.014  22.236  0.119199\n",
       "2019-03-26 22:55:00  27.331  23.312 -0.020598\n",
       "2019-03-26 23:00:00  27.069  24.374 -0.380278\n",
       "2019-03-26 23:05:00  26.988  24.151 -0.137647\n",
       "2019-03-26 23:10:00  27.013  24.251 -0.110650\n",
       "2019-03-26 23:15:00  27.574  23.789 -0.235694\n",
       "2019-03-26 23:20:00  27.903  23.539  0.128951\n",
       "2019-03-26 23:25:00  27.928  23.743  0.163760\n",
       "2019-03-26 23:30:00  28.028  24.000 -0.005549\n",
       "2019-03-26 23:35:00  28.365  23.135 -0.340278\n",
       "\n",
       "[254 rows x 3 columns]"
      ]
     },
     "execution_count": 62,
     "metadata": {},
     "output_type": "execute_result"
    }
   ],
   "source": [
    "# Estimate the mean of iot_s for every 5 minutes\n",
    "new_df.resample('300S').mean()  # mean per every 5 minutes"
   ]
  },
  {
   "cell_type": "code",
   "execution_count": 63,
   "metadata": {},
   "outputs": [
    {
     "data": {
      "text/plain": [
       "<matplotlib.axes._subplots.AxesSubplot at 0x1914f338358>"
      ]
     },
     "execution_count": 63,
     "metadata": {},
     "output_type": "execute_result"
    },
    {
     "data": {
      "image/png": "[encoded data removed]",
      "text/plain": [
       "<Figure size 864x432 with 1 Axes>"
      ]
     },
     "metadata": {
      "needs_background": "light"
     },
     "output_type": "display_data"
    }
   ],
   "source": [
    "#  Plot mean of the iot data per every 5 minutes\n",
    "new_df.resample('300S').mean().plot(figsize=(12,6), title='Change of temp, humi in every 5-minutes')"
   ]
  },
  {
   "cell_type": "code",
   "execution_count": 64,
   "metadata": {},
   "outputs": [
    {
     "data": {
      "text/plain": [
       "<matplotlib.axes._subplots.AxesSubplot at 0x1914f3ab4a8>"
      ]
     },
     "execution_count": 64,
     "metadata": {},
     "output_type": "execute_result"
    },
    {
     "data": {
      "image/png": "[encoded data removed]",
      "text/plain": [
       "<Figure size 864x432 with 1 Axes>"
      ]
     },
     "metadata": {
      "needs_background": "light"
     },
     "output_type": "display_data"
    }
   ],
   "source": [
    "#  Plot mean of the iot data per every hour \n",
    "new_df.resample('H').mean().plot(figsize=(12,6), title='Hourly change of temp, humi')"
   ]
  },
  {
   "cell_type": "code",
   "execution_count": 65,
   "metadata": {},
   "outputs": [
    {
     "data": {
      "text/plain": [
       "<matplotlib.axes._subplots.AxesSubplot at 0x191507b87b8>"
      ]
     },
     "execution_count": 65,
     "metadata": {},
     "output_type": "execute_result"
    },
    {
     "data": {
      "image/png": "[encoded data removed]",
      "text/plain": [
       "<Figure size 864x432 with 1 Axes>"
      ]
     },
     "metadata": {
      "needs_background": "light"
     },
     "output_type": "display_data"
    }
   ],
   "source": [
    "#  Plot mean of the iot data per every hour \n",
    "new_df[['mT','mH']].resample('H').mean().plot(figsize=(12,6), title='Hourly change of temp, humi')"
   ]
  },
  {
   "cell_type": "markdown",
   "metadata": {},
   "source": [
    "***"
   ]
  },
  {
   "cell_type": "markdown",
   "metadata": {},
   "source": [
    "## Correlation btw. T & H\n",
    "\n",
    "> ## $r = \\frac{\\sum{(x - \\bar x) (y - \\bar y)}}{\\sqrt{\\sum (x - \\bar x)^2 \\sum (y - \\bar y)^2}}$"
   ]
  },
  {
   "cell_type": "code",
   "execution_count": 66,
   "metadata": {},
   "outputs": [],
   "source": [
    "import matplotlib.pyplot as plt"
   ]
  },
  {
   "cell_type": "code",
   "execution_count": 67,
   "metadata": {},
   "outputs": [
    {
     "data": {
      "text/plain": [
       "<matplotlib.axes._subplots.AxesSubplot at 0x19150870a90>"
      ]
     },
     "execution_count": 67,
     "metadata": {},
     "output_type": "execute_result"
    },
    {
     "data": {
      "image/png": "[encoded data removed]",
      "text/plain": [
       "<Figure size 864x432 with 2 Axes>"
      ]
     },
     "metadata": {
      "needs_background": "light"
     },
     "output_type": "display_data"
    }
   ],
   "source": [
    "fig = plt.figure()\n",
    "\n",
    "# Divide the figure into a 2x1 grid, and give me the first section\n",
    "ax1 = fig.add_subplot(211)\n",
    "\n",
    "# Divide the figure into a 2x1 grid, and give me the second section\n",
    "ax2 = fig.add_subplot(212)\n",
    "ax2.set_ylabel('Correlation')\n",
    "#  Plot mean of the iot data per every 5 minutes\n",
    "new_df[['mT','mH']].resample('300S').mean().plot(figsize=(12,6), title='Change of temp, humi in every 5-minutes', ax=ax1)\n",
    "new_df[['corr']].resample('300S').mean().plot(figsize=(12,6), ax=ax2, ylim=[-1,1])"
   ]
  },
  {
   "cell_type": "code",
   "execution_count": 73,
   "metadata": {},
   "outputs": [
    {
     "data": {
      "text/plain": [
       "<matplotlib.axes._subplots.AxesSubplot at 0x19151cdcfd0>"
      ]
     },
     "execution_count": 73,
     "metadata": {},
     "output_type": "execute_result"
    },
    {
     "data": {
      "image/png": "[encoded data removed]",
      "text/plain": [
       "<Figure size 864x432 with 2 Axes>"
      ]
     },
     "metadata": {
      "needs_background": "light"
     },
     "output_type": "display_data"
    }
   ],
   "source": [
    "fig = plt.figure()\n",
    "\n",
    "# Divide the figure into a 2x1 grid, and give me the first section\n",
    "ax1 = fig.add_subplot(211)\n",
    "\n",
    "# Divide the figure into a 2x1 grid, and give me the second section\n",
    "ax2 = fig.add_subplot(212)\n",
    "ax2.set_ylabel('Correlation')\n",
    "#  Plot mean of the iot data per every 5 minutes\n",
    "new_df[['mT','mH']].resample('600S').mean().plot(figsize=(12,6), title='Change of temp, humi in every 10 minutes', ax=ax1)\n",
    "new_df[['corr']].resample('600S').mean().plot(figsize=(12,6), ax=ax2) #, ylim=[-,1])"
   ]
  },
  {
   "cell_type": "code",
   "execution_count": 74,
   "metadata": {},
   "outputs": [
    {
     "data": {
      "text/plain": [
       "<matplotlib.axes._subplots.AxesSubplot at 0x19151d71f98>"
      ]
     },
     "execution_count": 74,
     "metadata": {},
     "output_type": "execute_result"
    },
    {
     "data": {
      "image/png": "[encoded data removed]",
      "text/plain": [
       "<Figure size 864x432 with 2 Axes>"
      ]
     },
     "metadata": {
      "needs_background": "light"
     },
     "output_type": "display_data"
    }
   ],
   "source": [
    "fig = plt.figure()\n",
    "\n",
    "# Divide the figure into a 2x1 grid, and give me the first section\n",
    "ax1 = fig.add_subplot(211)\n",
    "\n",
    "# Divide the figure into a 2x1 grid, and give me the second section\n",
    "ax2 = fig.add_subplot(212)\n",
    "ax2.set_ylabel('Correlation')\n",
    "#  Plot mean of the iot data per every 5 minutes\n",
    "new_df[['mT','mH']].resample('H').mean().plot(figsize=(12,6), title='Change of temp, humi in every hour', ax=ax1)\n",
    "new_df[['corr']].resample('H').mean().plot(figsize=(12,6), ax=ax2) #, ylim=[-,1])"
   ]
  },
  {
   "cell_type": "code",
   "execution_count": null,
   "metadata": {},
   "outputs": [],
   "source": []
  }
 ],
 "metadata": {
  "kernelspec": {
   "display_name": "Python 3",
   "language": "python",
   "name": "python3"
  },
  "language_info": {
   "codemirror_mode": {
    "name": "ipython",
    "version": 3
   },
   "file_extension": ".py",
   "mimetype": "text/x-python",
   "name": "python",
   "nbconvert_exporter": "python",
   "pygments_lexer": "ipython3",
   "version": "3.7.2"
  }
 },
 "nbformat": 4,
 "nbformat_minor": 2
}
